{
  "nbformat": 4,
  "nbformat_minor": 0,
  "metadata": {
    "kernelspec": {
      "name": "python3",
      "display_name": "Python 3"
    },
    "language_info": {
      "codemirror_mode": {
        "name": "ipython",
        "version": 3
      },
      "file_extension": ".py",
      "mimetype": "text/x-python",
      "name": "python",
      "nbconvert_exporter": "python",
      "pygments_lexer": "ipython3",
      "version": "3.5.5"
    },
    "colab": {
      "name": "2-1&2-2_Mnist_MLP.ipynb",
      "provenance": [],
      "include_colab_link": true
    },
    "accelerator": "TPU"
  },
  "cells": [
    {
      "cell_type": "markdown",
      "metadata": {
        "id": "view-in-github",
        "colab_type": "text"
      },
      "source": [
        "<a href=\"https://colab.research.google.com/github/have-not/tutorial-ml-exercises/blob/master/2_1%262_2_Mnist_MLP.ipynb\" target=\"_parent\"><img src=\"https://colab.research.google.com/assets/colab-badge.svg\" alt=\"Open In Colab\"/></a>"
      ]
    },
    {
      "cell_type": "markdown",
      "metadata": {
        "collapsed": true,
        "id": "uaibZN9oqKkA",
        "colab_type": "text"
      },
      "source": [
        "# 実習2-1\n",
        "### Multil-Layer Perceptron(MLP)でMnistデータの分類\n",
        "\n",
        "### 参考\n",
        "(https://github.com/keras-team/keras/tree/master/examples)"
      ]
    },
    {
      "cell_type": "code",
      "metadata": {
        "id": "Cf7wVeumqKkD",
        "colab_type": "code",
        "colab": {
          "base_uri": "https://localhost:8080/",
          "height": 34
        },
        "outputId": "868937fd-8225-44dc-f682-da82a7ee0300"
      },
      "source": [
        "\n",
        "import os  #OSの機能を使用するため\n",
        "import pandas as pd  #pandasを用いたデータ処理をするため\n",
        "import keras #Kerasを使用するため\n",
        "from keras.datasets import mnist #MNISTデータを使用するため\n",
        "from keras.models import Sequential #Neural Networkを作製するため。\n",
        "from keras.layers import Dense, Dropout #フルコネクト(fc)層の作製と、dropoutを使用するため\n",
        "from keras.optimizers import SGD #確率的勾配降下法を使用するため\n",
        "import matplotlib.pyplot as plt #画像描画のため\n",
        "import time #計算にかかった時間を表示するため\n",
        "import numpy as np\n",
        "\n",
        "# SGDをRMSpropやAdamに変更することも可能"
      ],
      "execution_count": 1,
      "outputs": [
        {
          "output_type": "stream",
          "text": [
            "Using TensorFlow backend.\n"
          ],
          "name": "stderr"
        }
      ]
    },
    {
      "cell_type": "code",
      "metadata": {
        "id": "FaHwWx_pqKkI",
        "colab_type": "code",
        "colab": {}
      },
      "source": [
        "#バッチサイズ、分類クラス数、epoch数を設定\n",
        "batch_size = 128\n",
        "num_classes = 10\n",
        "epochs = 10"
      ],
      "execution_count": 0,
      "outputs": []
    },
    {
      "cell_type": "code",
      "metadata": {
        "id": "6aTwGA0tqKkL",
        "colab_type": "code",
        "colab": {
          "base_uri": "https://localhost:8080/",
          "height": 68
        },
        "outputId": "d24ce06e-99e7-42d3-f566-289e8a8c67ce"
      },
      "source": [
        "# Mnistデータをダウンロード。既に訓練データとテストデータに分割されている。\n",
        "(X_train, y_train), (X_test, y_test) = mnist.load_data()\n",
        "\n",
        "X_train.shape, y_train.shape, X_test.shape, y_test.shape\n",
        "#X_train: 学習データ\n",
        "#y_train: 学習ラベル\n",
        "#X_test: テストデータ\n",
        "#y_test: テストラベル"
      ],
      "execution_count": 3,
      "outputs": [
        {
          "output_type": "stream",
          "text": [
            "Downloading data from https://s3.amazonaws.com/img-datasets/mnist.npz\n",
            "11493376/11490434 [==============================] - 1s 0us/step\n"
          ],
          "name": "stdout"
        },
        {
          "output_type": "execute_result",
          "data": {
            "text/plain": [
              "((60000, 28, 28), (60000,), (10000, 28, 28), (10000,))"
            ]
          },
          "metadata": {
            "tags": []
          },
          "execution_count": 3
        }
      ]
    },
    {
      "cell_type": "code",
      "metadata": {
        "id": "zE5kxv8QqKkN",
        "colab_type": "code",
        "colab": {
          "base_uri": "https://localhost:8080/",
          "height": 298
        },
        "outputId": "32e1adaa-79eb-49d2-f1b6-dc27b7341160"
      },
      "source": [
        "plt.imshow(X_train[0,0:28,0:28])#画像データのスライス\n",
        "plt.title('Mnist data')\n",
        "\n",
        "#Matplotlibについては以下のHPが役に立つかも\n",
        "#https://matplotlib.org/gallery/index.html"
      ],
      "execution_count": 4,
      "outputs": [
        {
          "output_type": "execute_result",
          "data": {
            "text/plain": [
              "Text(0.5, 1.0, 'Mnist data')"
            ]
          },
          "metadata": {
            "tags": []
          },
          "execution_count": 4
        },
        {
          "output_type": "display_data",
          "data": {
            "image/png": "[encoded data removed]",
            "text/plain": [
              "<Figure size 432x288 with 1 Axes>"
            ]
          },
          "metadata": {
            "tags": []
          }
        }
      ]
    },
    {
      "cell_type": "code",
      "metadata": {
        "id": "63yuq_jGqKkR",
        "colab_type": "code",
        "colab": {
          "base_uri": "https://localhost:8080/",
          "height": 268
        },
        "outputId": "e28e859c-328a-4e7b-aa52-f75d64c2b8d8"
      },
      "source": [
        "#データを最初から順番に並べて表示\n",
        "plt.subplot(231)\n",
        "plt.imshow(X_train[0,:28,:28])\n",
        "\n",
        "plt.subplot(232)\n",
        "plt.imshow(X_train[1,:28,:28])\n",
        "\n",
        "plt.subplot(233)\n",
        "plt.imshow(X_train[2,:28,:28])\n",
        "\n",
        "plt.subplot(234)\n",
        "plt.imshow(X_train[3,:28,:28])\n",
        "\n",
        "plt.subplot(235)\n",
        "plt.imshow(X_train[4,:28,:28])\n",
        "\n",
        "plt.subplot(236)\n",
        "plt.imshow(X_train[5,:28,:28])\n",
        "\n",
        "plt.show()"
      ],
      "execution_count": 5,
      "outputs": [
        {
          "output_type": "display_data",
          "data": {
            "image/png": "[encoded data removed]",
            "text/plain": [
              "<Figure size 432x288 with 6 Axes>"
            ]
          },
          "metadata": {
            "tags": []
          }
        }
      ]
    },
    {
      "cell_type": "code",
      "metadata": {
        "id": "H_5zKfKoqKkU",
        "colab_type": "code",
        "colab": {
          "base_uri": "https://localhost:8080/",
          "height": 269
        },
        "outputId": "dd2e1522-a97f-4e02-8b20-23818d05599a"
      },
      "source": [
        "#10x10でデータを表示\n",
        "\n",
        "for i in range(100):\n",
        "    plt.subplot(10,10,i + 1)\n",
        "    plt.axis(\"off\")\n",
        "    plt.imshow(X_train[i,:28,:28])\n",
        "    \n",
        "plt.show()"
      ],
      "execution_count": 6,
      "outputs": [
        {
          "output_type": "display_data",
          "data": {
            "image/png": "[encoded data removed]",
            "text/plain": [
              "<Figure size 432x288 with 100 Axes>"
            ]
          },
          "metadata": {
            "tags": []
          }
        }
      ]
    },
    {
      "cell_type": "code",
      "metadata": {
        "id": "tgmGhHA9qKkX",
        "colab_type": "code",
        "colab": {
          "base_uri": "https://localhost:8080/",
          "height": 102
        },
        "outputId": "5a70c003-bc03-4bae-c6b8-ab9f2ed63f1f"
      },
      "source": [
        "#x_trainのデータとy_trainのデータの対応を見る\n",
        "y_train[0:100]"
      ],
      "execution_count": 7,
      "outputs": [
        {
          "output_type": "execute_result",
          "data": {
            "text/plain": [
              "array([5, 0, 4, 1, 9, 2, 1, 3, 1, 4, 3, 5, 3, 6, 1, 7, 2, 8, 6, 9, 4, 0,\n",
              "       9, 1, 1, 2, 4, 3, 2, 7, 3, 8, 6, 9, 0, 5, 6, 0, 7, 6, 1, 8, 7, 9,\n",
              "       3, 9, 8, 5, 9, 3, 3, 0, 7, 4, 9, 8, 0, 9, 4, 1, 4, 4, 6, 0, 4, 5,\n",
              "       6, 1, 0, 0, 1, 7, 1, 6, 3, 0, 2, 1, 1, 7, 9, 0, 2, 6, 7, 8, 3, 9,\n",
              "       0, 4, 6, 7, 4, 6, 8, 0, 7, 8, 3, 1], dtype=uint8)"
            ]
          },
          "metadata": {
            "tags": []
          },
          "execution_count": 7
        }
      ]
    },
    {
      "cell_type": "code",
      "metadata": {
        "id": "vHAbi_qNqKkZ",
        "colab_type": "code",
        "colab": {}
      },
      "source": [
        "#データの値を正規化\n",
        "X_train = X_train.astype('float32')\n",
        "X_test = X_test.astype('float32')\n",
        "X_train /= 255\n",
        "X_test /= 255"
      ],
      "execution_count": 0,
      "outputs": []
    },
    {
      "cell_type": "code",
      "metadata": {
        "id": "KCmDjwcHqKkb",
        "colab_type": "code",
        "colab": {
          "base_uri": "https://localhost:8080/",
          "height": 269
        },
        "outputId": "d9cb67c0-c35f-4084-b9d9-6822804ff97e"
      },
      "source": [
        "#一次元配列のデータに変換します。\n",
        "X_train = X_train.reshape(60000, 784)\n",
        "X_test = X_test.reshape(10000, 784)\n",
        "plt.imshow(X_train[0:1000, 0:784])\n",
        "plt.show()"
      ],
      "execution_count": 9,
      "outputs": [
        {
          "output_type": "display_data",
          "data": {
            "image/png": "[encoded data removed]",
            "text/plain": [
              "<Figure size 432x288 with 1 Axes>"
            ]
          },
          "metadata": {
            "tags": []
          }
        }
      ]
    },
    {
      "cell_type": "code",
      "metadata": {
        "id": "ikvzbuRhqKkd",
        "colab_type": "code",
        "colab": {
          "base_uri": "https://localhost:8080/",
          "height": 51
        },
        "outputId": "4503606e-dd40-4058-efdb-33d020542c53"
      },
      "source": [
        "#データ数の確認\n",
        "print(X_train.shape[0], 'train samples')\n",
        "print(X_test.shape[0], 'test samples')"
      ],
      "execution_count": 10,
      "outputs": [
        {
          "output_type": "stream",
          "text": [
            "60000 train samples\n",
            "10000 test samples\n"
          ],
          "name": "stdout"
        }
      ]
    },
    {
      "cell_type": "code",
      "metadata": {
        "id": "QiwTH29GqKkg",
        "colab_type": "code",
        "colab": {
          "base_uri": "https://localhost:8080/",
          "height": 357
        },
        "outputId": "cc564ebd-76de-457d-ae3d-d4469b49361e"
      },
      "source": [
        "#各数字がそれぞれ何個ずつあるかカウント(データ数に偏りがないことを確認)\n",
        "import collections\n",
        "a = collections.Counter(y_train),\n",
        "b = collections.Counter(y_test)\n",
        "a,b"
      ],
      "execution_count": 11,
      "outputs": [
        {
          "output_type": "execute_result",
          "data": {
            "text/plain": [
              "((Counter({0: 5923,\n",
              "           1: 6742,\n",
              "           2: 5958,\n",
              "           3: 6131,\n",
              "           4: 5842,\n",
              "           5: 5421,\n",
              "           6: 5918,\n",
              "           7: 6265,\n",
              "           8: 5851,\n",
              "           9: 5949}),),\n",
              " Counter({0: 980,\n",
              "          1: 1135,\n",
              "          2: 1032,\n",
              "          3: 1010,\n",
              "          4: 982,\n",
              "          5: 892,\n",
              "          6: 958,\n",
              "          7: 1028,\n",
              "          8: 974,\n",
              "          9: 1009}))"
            ]
          },
          "metadata": {
            "tags": []
          },
          "execution_count": 11
        }
      ]
    },
    {
      "cell_type": "code",
      "metadata": {
        "id": "x-Z3IO8FqKki",
        "colab_type": "code",
        "colab": {}
      },
      "source": [
        "# 教師データ(y_train, y_test)をOne hotベクトルへ変換する\n",
        "Y_train = keras.utils.to_categorical(y_train, num_classes)\n",
        "Y_test = keras.utils.to_categorical(y_test, num_classes)"
      ],
      "execution_count": 0,
      "outputs": []
    },
    {
      "cell_type": "code",
      "metadata": {
        "id": "WPuMU0URqKkk",
        "colab_type": "code",
        "colab": {
          "base_uri": "https://localhost:8080/",
          "height": 187
        },
        "outputId": "a8777bb1-f42e-4dda-d582-ab692a7effcc"
      },
      "source": [
        "#One hotなベクトルになっていることを確認\n",
        "Y_train[0:10]"
      ],
      "execution_count": 13,
      "outputs": [
        {
          "output_type": "execute_result",
          "data": {
            "text/plain": [
              "array([[0., 0., 0., 0., 0., 1., 0., 0., 0., 0.],\n",
              "       [1., 0., 0., 0., 0., 0., 0., 0., 0., 0.],\n",
              "       [0., 0., 0., 0., 1., 0., 0., 0., 0., 0.],\n",
              "       [0., 1., 0., 0., 0., 0., 0., 0., 0., 0.],\n",
              "       [0., 0., 0., 0., 0., 0., 0., 0., 0., 1.],\n",
              "       [0., 0., 1., 0., 0., 0., 0., 0., 0., 0.],\n",
              "       [0., 1., 0., 0., 0., 0., 0., 0., 0., 0.],\n",
              "       [0., 0., 0., 1., 0., 0., 0., 0., 0., 0.],\n",
              "       [0., 1., 0., 0., 0., 0., 0., 0., 0., 0.],\n",
              "       [0., 0., 0., 0., 1., 0., 0., 0., 0., 0.]], dtype=float32)"
            ]
          },
          "metadata": {
            "tags": []
          },
          "execution_count": 13
        }
      ]
    },
    {
      "cell_type": "code",
      "metadata": {
        "id": "zjQFI2EbqKkm",
        "colab_type": "code",
        "colab": {
          "base_uri": "https://localhost:8080/",
          "height": 394
        },
        "outputId": "322d7015-eba5-4cc8-e1be-e20152b2f41c"
      },
      "source": [
        "#MLPのモデル/構造\n",
        "model = Sequential()\n",
        "model.add(Dense(300, activation='relu', input_shape=(784,)))#入力層のノード数784(=28*28), 第1層のノード数300、活性化関数はrelu\n",
        "#model.add(Dropout(0.5)) #ドロップアウト率\n",
        "model.add(Dense(300, activation='relu'))#第2層のノード数300\n",
        "#model.add(Dropout(0.5))\n",
        "model.add(Dense(num_classes, activation='softmax'))#最終層のノード数はクラス数と同じ10、活性化関数はsoftmax\n",
        "model.summary()#モデルの内容を表示\n",
        "\n",
        "\"\"\"\n",
        "#モデルを読み込む\n",
        "model = model_from_json(open('mnist_mlp_model.json').read())\n",
        "\"\"\""
      ],
      "execution_count": 14,
      "outputs": [
        {
          "output_type": "stream",
          "text": [
            "WARNING:tensorflow:From /usr/local/lib/python3.6/dist-packages/keras/backend/tensorflow_backend.py:66: The name tf.get_default_graph is deprecated. Please use tf.compat.v1.get_default_graph instead.\n",
            "\n",
            "WARNING:tensorflow:From /usr/local/lib/python3.6/dist-packages/keras/backend/tensorflow_backend.py:541: The name tf.placeholder is deprecated. Please use tf.compat.v1.placeholder instead.\n",
            "\n",
            "WARNING:tensorflow:From /usr/local/lib/python3.6/dist-packages/keras/backend/tensorflow_backend.py:4432: The name tf.random_uniform is deprecated. Please use tf.random.uniform instead.\n",
            "\n",
            "Model: \"sequential_1\"\n",
            "_________________________________________________________________\n",
            "Layer (type)                 Output Shape              Param #   \n",
            "=================================================================\n",
            "dense_1 (Dense)              (None, 300)               235500    \n",
            "_________________________________________________________________\n",
            "dense_2 (Dense)              (None, 300)               90300     \n",
            "_________________________________________________________________\n",
            "dense_3 (Dense)              (None, 10)                3010      \n",
            "=================================================================\n",
            "Total params: 328,810\n",
            "Trainable params: 328,810\n",
            "Non-trainable params: 0\n",
            "_________________________________________________________________\n"
          ],
          "name": "stdout"
        },
        {
          "output_type": "execute_result",
          "data": {
            "text/plain": [
              "\"\\n#モデルを読み込む\\nmodel = model_from_json(open('mnist_mlp_model.json').read())\\n\""
            ]
          },
          "metadata": {
            "tags": []
          },
          "execution_count": 14
        }
      ]
    },
    {
      "cell_type": "code",
      "metadata": {
        "id": "_53HbSXLqKkp",
        "colab_type": "code",
        "colab": {}
      },
      "source": [
        "\"\"\"\n",
        "#batch normalizationを入れてみたモデル例\n",
        "\n",
        "from keras.layers.normalization import BatchNormalization #batchnormalizationを使用するため\n",
        "from keras.layers import Activation\n",
        "\n",
        "model = Sequential()\n",
        "model.add(Dense(300, input_shape=(784,)))#入力層のノード数784(=28*28), 第1層のノード数300\n",
        "model.add(BatchNormalization()) #BatchNormalization\n",
        "model.add(Activation('relu'))\n",
        "\n",
        "model.add(Dense(300))#第2層のノード数300\n",
        "model.add(BatchNormalization()) #BatchNormalization\n",
        "model.add(Activation('relu'))\n",
        "\n",
        "model.add(Dense(num_classes, activation='softmax')) #最終層のノード数はクラス数と同じ10、活性化関数はsoftmax\n",
        "model.summary()#モデルの内容を表示\n"
      ],
      "execution_count": 0,
      "outputs": []
    },
    {
      "cell_type": "code",
      "metadata": {
        "id": "yuL67_Y3qKkr",
        "colab_type": "code",
        "colab": {}
      },
      "source": [
        "\"\"\"\n",
        "#keras functional APIを使ったmodelの書き方 (2つ前のcellを実装)\n",
        "from keras import Input\n",
        "from keras import layers\n",
        "from keras import Model\n",
        "\n",
        "# モデルの構築\n",
        "input_tensor = Input(shape=(784,))\n",
        "x = layers.Dense(300, activation ='relu')(input_tensor)\n",
        "# = Dropout(0.3)(x)\n",
        "x = layers.Dense(300, activation ='relu')(x)\n",
        "#x = Dropout(0.3)(x)\n",
        "output_tensor = layers.Dense(10, activation='softmax')(x)\n",
        "\n",
        "# Modelクラスで入力テンソルと出力テンソルをモデルに変換する\n",
        "model = Model(input_tensor, output_tensor)\n",
        "\n",
        "model.summary()#モデルの内容を表示\n"
      ],
      "execution_count": 0,
      "outputs": []
    },
    {
      "cell_type": "code",
      "metadata": {
        "id": "fiGUdfz0qKkt",
        "colab_type": "code",
        "colab": {
          "base_uri": "https://localhost:8080/",
          "height": 85
        },
        "outputId": "3bc51add-d4ac-404d-8a67-43cf37922470"
      },
      "source": [
        "model.compile(loss='categorical_crossentropy',\n",
        "              optimizer=SGD(lr=0.01),#lrはlearning rate\n",
        "              metrics=['accuracy'])"
      ],
      "execution_count": 16,
      "outputs": [
        {
          "output_type": "stream",
          "text": [
            "WARNING:tensorflow:From /usr/local/lib/python3.6/dist-packages/keras/optimizers.py:793: The name tf.train.Optimizer is deprecated. Please use tf.compat.v1.train.Optimizer instead.\n",
            "\n",
            "WARNING:tensorflow:From /usr/local/lib/python3.6/dist-packages/keras/backend/tensorflow_backend.py:3576: The name tf.log is deprecated. Please use tf.math.log instead.\n",
            "\n"
          ],
          "name": "stdout"
        }
      ]
    },
    {
      "cell_type": "code",
      "metadata": {
        "id": "Cb_UZEyxqKkv",
        "colab_type": "code",
        "colab": {
          "base_uri": "https://localhost:8080/",
          "height": 768
        },
        "outputId": "fdc4be8b-9624-4110-f2d6-bc0b1c0e1e8c"
      },
      "source": [
        "#学習の開始\n",
        "\n",
        "\"\"\"\n",
        "#学習結果を読み込む\n",
        "model.load_weights('mnist_results/mnist_mlp_weights.h5')\n",
        "\"\"\"\n",
        "\n",
        "\n",
        "start = time.time()\n",
        "hist = model.fit(X_train, Y_train,\n",
        "                    batch_size=batch_size,\n",
        "                    epochs=epochs,\n",
        "                    verbose=1,\n",
        "                    validation_split=0.2) #training dataとvalidation dataに8:2の比率で分ける\n",
        "elapsed_time = time.time() - start #(処理時間)＝(処理が終わった時間)ー(処理を始めた時間)\n",
        "print(\"計算時間:\",elapsed_time,\"秒\") \n",
        "\n",
        "# test dataに対するとlossとAccuracyを出す\n",
        "score = model.evaluate(X_test, Y_test, verbose=0)\n",
        "print('Test loss:', score[0])\n",
        "print('Test accuracy:', score[1])\n",
        "\n",
        "#sequentialモデルについては以下が参考になります(https://keras.io/ja/models/sequential/)"
      ],
      "execution_count": 17,
      "outputs": [
        {
          "output_type": "stream",
          "text": [
            "WARNING:tensorflow:From /usr/local/lib/python3.6/dist-packages/tensorflow_core/python/ops/math_grad.py:1424: where (from tensorflow.python.ops.array_ops) is deprecated and will be removed in a future version.\n",
            "Instructions for updating:\n",
            "Use tf.where in 2.0, which has the same broadcast rule as np.where\n",
            "WARNING:tensorflow:From /usr/local/lib/python3.6/dist-packages/keras/backend/tensorflow_backend.py:1033: The name tf.assign_add is deprecated. Please use tf.compat.v1.assign_add instead.\n",
            "\n",
            "WARNING:tensorflow:From /usr/local/lib/python3.6/dist-packages/keras/backend/tensorflow_backend.py:1020: The name tf.assign is deprecated. Please use tf.compat.v1.assign instead.\n",
            "\n",
            "WARNING:tensorflow:From /usr/local/lib/python3.6/dist-packages/keras/backend/tensorflow_backend.py:3005: The name tf.Session is deprecated. Please use tf.compat.v1.Session instead.\n",
            "\n",
            "Train on 48000 samples, validate on 12000 samples\n",
            "Epoch 1/10\n",
            "WARNING:tensorflow:From /usr/local/lib/python3.6/dist-packages/keras/backend/tensorflow_backend.py:190: The name tf.get_default_session is deprecated. Please use tf.compat.v1.get_default_session instead.\n",
            "\n",
            "WARNING:tensorflow:From /usr/local/lib/python3.6/dist-packages/keras/backend/tensorflow_backend.py:197: The name tf.ConfigProto is deprecated. Please use tf.compat.v1.ConfigProto instead.\n",
            "\n",
            "WARNING:tensorflow:From /usr/local/lib/python3.6/dist-packages/keras/backend/tensorflow_backend.py:207: The name tf.global_variables is deprecated. Please use tf.compat.v1.global_variables instead.\n",
            "\n",
            "WARNING:tensorflow:From /usr/local/lib/python3.6/dist-packages/keras/backend/tensorflow_backend.py:216: The name tf.is_variable_initialized is deprecated. Please use tf.compat.v1.is_variable_initialized instead.\n",
            "\n",
            "WARNING:tensorflow:From /usr/local/lib/python3.6/dist-packages/keras/backend/tensorflow_backend.py:223: The name tf.variables_initializer is deprecated. Please use tf.compat.v1.variables_initializer instead.\n",
            "\n",
            "48000/48000 [==============================] - 5s 98us/step - loss: 1.3261 - acc: 0.6927 - val_loss: 0.6505 - val_acc: 0.8524\n",
            "Epoch 2/10\n",
            "48000/48000 [==============================] - 4s 82us/step - loss: 0.5382 - acc: 0.8635 - val_loss: 0.4179 - val_acc: 0.8950\n",
            "Epoch 3/10\n",
            "48000/48000 [==============================] - 4s 83us/step - loss: 0.4079 - acc: 0.8899 - val_loss: 0.3526 - val_acc: 0.9045\n",
            "Epoch 4/10\n",
            "48000/48000 [==============================] - 4s 84us/step - loss: 0.3565 - acc: 0.9009 - val_loss: 0.3188 - val_acc: 0.9113\n",
            "Epoch 5/10\n",
            "48000/48000 [==============================] - 4s 83us/step - loss: 0.3259 - acc: 0.9084 - val_loss: 0.2957 - val_acc: 0.9154\n",
            "Epoch 6/10\n",
            "48000/48000 [==============================] - 4s 80us/step - loss: 0.3042 - acc: 0.9143 - val_loss: 0.2813 - val_acc: 0.9207\n",
            "Epoch 7/10\n",
            "48000/48000 [==============================] - 4s 85us/step - loss: 0.2874 - acc: 0.9186 - val_loss: 0.2674 - val_acc: 0.9246\n",
            "Epoch 8/10\n",
            "48000/48000 [==============================] - 4s 86us/step - loss: 0.2731 - acc: 0.9230 - val_loss: 0.2569 - val_acc: 0.9273\n",
            "Epoch 9/10\n",
            "48000/48000 [==============================] - 4s 90us/step - loss: 0.2610 - acc: 0.9257 - val_loss: 0.2452 - val_acc: 0.9307\n",
            "Epoch 10/10\n",
            "48000/48000 [==============================] - 5s 100us/step - loss: 0.2499 - acc: 0.9296 - val_loss: 0.2358 - val_acc: 0.9333\n",
            "計算時間: 42.130138635635376 秒\n",
            "Test loss: 0.23695775441527367\n",
            "Test accuracy: 0.9324\n"
          ],
          "name": "stdout"
        }
      ]
    },
    {
      "cell_type": "code",
      "metadata": {
        "id": "gnXIcAMIqKkx",
        "colab_type": "code",
        "colab": {
          "base_uri": "https://localhost:8080/",
          "height": 283
        },
        "outputId": "d5954ceb-31ea-4eaf-9f94-b1d3581a3b89"
      },
      "source": [
        "loss = hist.history['loss']\n",
        "val_loss = hist.history['val_loss']\n",
        "\n",
        "# lossのグラフ\n",
        "plt.plot(range(epochs), loss, marker='.', label='loss')\n",
        "plt.plot(range(epochs), val_loss, marker='.', label='val_loss')\n",
        "plt.legend(loc='best', fontsize=10)\n",
        "plt.grid()\n",
        "plt.xlabel('epoch')\n",
        "plt.ylabel('loss')\n",
        "plt.show()"
      ],
      "execution_count": 18,
      "outputs": [
        {
          "output_type": "display_data",
          "data": {
            "image/png": "[encoded data removed]",
            "text/plain": [
              "<Figure size 432x288 with 1 Axes>"
            ]
          },
          "metadata": {
            "tags": []
          }
        }
      ]
    },
    {
      "cell_type": "code",
      "metadata": {
        "id": "o7X2wdciqKk2",
        "colab_type": "code",
        "colab": {
          "base_uri": "https://localhost:8080/",
          "height": 283
        },
        "outputId": "4615f83c-58fd-4a13-ce7b-b42db48fe6b0"
      },
      "source": [
        "acc = hist.history['acc']\n",
        "val_acc = hist.history['val_acc']\n",
        "\n",
        "# accuracyのグラフ\n",
        "plt.plot(range(epochs), acc, marker='.', label='acc')\n",
        "plt.plot(range(epochs), val_acc, marker='.', label='val_acc')\n",
        "plt.legend(loc='best', fontsize=10)\n",
        "plt.grid()\n",
        "plt.xlabel('epoch')\n",
        "plt.ylabel('acc')\n",
        "plt.show()"
      ],
      "execution_count": 19,
      "outputs": [
        {
          "output_type": "display_data",
          "data": {
            "image/png": "[encoded data removed]",
            "text/plain": [
              "<Figure size 432x288 with 1 Axes>"
            ]
          },
          "metadata": {
            "tags": []
          }
        }
      ]
    },
    {
      "cell_type": "code",
      "metadata": {
        "id": "yutdWIXUqKk5",
        "colab_type": "code",
        "colab": {
          "base_uri": "https://localhost:8080/",
          "height": 187
        },
        "outputId": "14d2a3cb-e2a9-4fc3-848f-7ce179f6609e"
      },
      "source": [
        "#accの中身を表示 (10 epoch分のデータが入っている)\n",
        "acc"
      ],
      "execution_count": 20,
      "outputs": [
        {
          "output_type": "execute_result",
          "data": {
            "text/plain": [
              "[0.6927083333333334,\n",
              " 0.8635416666666667,\n",
              " 0.8898958333333333,\n",
              " 0.9008541666666666,\n",
              " 0.9083958333333333,\n",
              " 0.9143125,\n",
              " 0.9185625,\n",
              " 0.9230416666666666,\n",
              " 0.9257291666666667,\n",
              " 0.9296458333333333]"
            ]
          },
          "metadata": {
            "tags": []
          },
          "execution_count": 20
        }
      ]
    },
    {
      "cell_type": "code",
      "metadata": {
        "id": "O2jHws10qKk7",
        "colab_type": "code",
        "colab": {}
      },
      "source": [
        "# 結果の保存先を作成\n",
        "mnist_results_dir = 'mnist_results'\n",
        "if not os.path.exists(mnist_results_dir):os.mkdir(mnist_results_dir)\n",
        "\n",
        "#pandasでaccとval_accをresult.csvに保存\n",
        "df = pd.DataFrame({\"accuracy\" : (acc), \"validation_accuracy\" : (val_acc)})\n",
        "df.to_csv(\"mnist_results/mnist_MLP_result.csv\")"
      ],
      "execution_count": 0,
      "outputs": []
    },
    {
      "cell_type": "code",
      "metadata": {
        "id": "TMmffvj3qKk_",
        "colab_type": "code",
        "colab": {}
      },
      "source": [
        "#モデルをjsonファイルに保存、重みを.h5として保存\n",
        "model_json_str = model.to_json()\n",
        "open(\"mnist_results/mnist_mlp_model.json\", \"w\").write(model_json_str)\n",
        "model.save_weights(\"mnist_results/mnist_MLP_weights.h5\");"
      ],
      "execution_count": 0,
      "outputs": []
    },
    {
      "cell_type": "code",
      "metadata": {
        "id": "WqWukMbIqKlB",
        "colab_type": "code",
        "colab": {
          "base_uri": "https://localhost:8080/",
          "height": 407
        },
        "outputId": "596768b8-67f7-4dad-a0a5-93fe788807a8"
      },
      "source": [
        "# 正誤表\n",
        "print('Cross tabulation')\n",
        "y_pred = model.predict_classes(X_test)\n",
        "pd.crosstab(y_pred, y_test)\n",
        "\n",
        "#列：実際の数字\n",
        "#行：予想した数字\n",
        "#予想した数字が正しければ、対角部分にカウントされる。"
      ],
      "execution_count": 23,
      "outputs": [
        {
          "output_type": "stream",
          "text": [
            "Cross tabulation\n"
          ],
          "name": "stdout"
        },
        {
          "output_type": "execute_result",
          "data": {
            "text/html": [
              "<div>\n",
              "<style scoped>\n",
              "    .dataframe tbody tr th:only-of-type {\n",
              "        vertical-align: middle;\n",
              "    }\n",
              "\n",
              "    .dataframe tbody tr th {\n",
              "        vertical-align: top;\n",
              "    }\n",
              "\n",
              "    .dataframe thead th {\n",
              "        text-align: right;\n",
              "    }\n",
              "</style>\n",
              "<table border=\"1\" class=\"dataframe\">\n",
              "  <thead>\n",
              "    <tr style=\"text-align: right;\">\n",
              "      <th>col_0</th>\n",
              "      <th>0</th>\n",
              "      <th>1</th>\n",
              "      <th>2</th>\n",
              "      <th>3</th>\n",
              "      <th>4</th>\n",
              "      <th>5</th>\n",
              "      <th>6</th>\n",
              "      <th>7</th>\n",
              "      <th>8</th>\n",
              "      <th>9</th>\n",
              "    </tr>\n",
              "    <tr>\n",
              "      <th>row_0</th>\n",
              "      <th></th>\n",
              "      <th></th>\n",
              "      <th></th>\n",
              "      <th></th>\n",
              "      <th></th>\n",
              "      <th></th>\n",
              "      <th></th>\n",
              "      <th></th>\n",
              "      <th></th>\n",
              "      <th></th>\n",
              "    </tr>\n",
              "  </thead>\n",
              "  <tbody>\n",
              "    <tr>\n",
              "      <th>0</th>\n",
              "      <td>964</td>\n",
              "      <td>0</td>\n",
              "      <td>11</td>\n",
              "      <td>2</td>\n",
              "      <td>2</td>\n",
              "      <td>7</td>\n",
              "      <td>12</td>\n",
              "      <td>2</td>\n",
              "      <td>7</td>\n",
              "      <td>11</td>\n",
              "    </tr>\n",
              "    <tr>\n",
              "      <th>1</th>\n",
              "      <td>0</td>\n",
              "      <td>1114</td>\n",
              "      <td>5</td>\n",
              "      <td>1</td>\n",
              "      <td>5</td>\n",
              "      <td>2</td>\n",
              "      <td>3</td>\n",
              "      <td>10</td>\n",
              "      <td>5</td>\n",
              "      <td>8</td>\n",
              "    </tr>\n",
              "    <tr>\n",
              "      <th>2</th>\n",
              "      <td>1</td>\n",
              "      <td>2</td>\n",
              "      <td>938</td>\n",
              "      <td>17</td>\n",
              "      <td>4</td>\n",
              "      <td>3</td>\n",
              "      <td>5</td>\n",
              "      <td>25</td>\n",
              "      <td>6</td>\n",
              "      <td>1</td>\n",
              "    </tr>\n",
              "    <tr>\n",
              "      <th>3</th>\n",
              "      <td>2</td>\n",
              "      <td>3</td>\n",
              "      <td>16</td>\n",
              "      <td>933</td>\n",
              "      <td>0</td>\n",
              "      <td>36</td>\n",
              "      <td>0</td>\n",
              "      <td>5</td>\n",
              "      <td>26</td>\n",
              "      <td>11</td>\n",
              "    </tr>\n",
              "    <tr>\n",
              "      <th>4</th>\n",
              "      <td>0</td>\n",
              "      <td>1</td>\n",
              "      <td>13</td>\n",
              "      <td>0</td>\n",
              "      <td>913</td>\n",
              "      <td>3</td>\n",
              "      <td>11</td>\n",
              "      <td>5</td>\n",
              "      <td>9</td>\n",
              "      <td>25</td>\n",
              "    </tr>\n",
              "    <tr>\n",
              "      <th>5</th>\n",
              "      <td>3</td>\n",
              "      <td>2</td>\n",
              "      <td>0</td>\n",
              "      <td>22</td>\n",
              "      <td>0</td>\n",
              "      <td>798</td>\n",
              "      <td>13</td>\n",
              "      <td>0</td>\n",
              "      <td>19</td>\n",
              "      <td>7</td>\n",
              "    </tr>\n",
              "    <tr>\n",
              "      <th>6</th>\n",
              "      <td>6</td>\n",
              "      <td>3</td>\n",
              "      <td>8</td>\n",
              "      <td>2</td>\n",
              "      <td>8</td>\n",
              "      <td>16</td>\n",
              "      <td>910</td>\n",
              "      <td>0</td>\n",
              "      <td>15</td>\n",
              "      <td>1</td>\n",
              "    </tr>\n",
              "    <tr>\n",
              "      <th>7</th>\n",
              "      <td>1</td>\n",
              "      <td>1</td>\n",
              "      <td>13</td>\n",
              "      <td>15</td>\n",
              "      <td>2</td>\n",
              "      <td>4</td>\n",
              "      <td>1</td>\n",
              "      <td>957</td>\n",
              "      <td>11</td>\n",
              "      <td>14</td>\n",
              "    </tr>\n",
              "    <tr>\n",
              "      <th>8</th>\n",
              "      <td>3</td>\n",
              "      <td>9</td>\n",
              "      <td>24</td>\n",
              "      <td>12</td>\n",
              "      <td>6</td>\n",
              "      <td>16</td>\n",
              "      <td>3</td>\n",
              "      <td>2</td>\n",
              "      <td>872</td>\n",
              "      <td>6</td>\n",
              "    </tr>\n",
              "    <tr>\n",
              "      <th>9</th>\n",
              "      <td>0</td>\n",
              "      <td>0</td>\n",
              "      <td>4</td>\n",
              "      <td>6</td>\n",
              "      <td>42</td>\n",
              "      <td>7</td>\n",
              "      <td>0</td>\n",
              "      <td>22</td>\n",
              "      <td>4</td>\n",
              "      <td>925</td>\n",
              "    </tr>\n",
              "  </tbody>\n",
              "</table>\n",
              "</div>"
            ],
            "text/plain": [
              "col_0    0     1    2    3    4    5    6    7    8    9\n",
              "row_0                                                   \n",
              "0      964     0   11    2    2    7   12    2    7   11\n",
              "1        0  1114    5    1    5    2    3   10    5    8\n",
              "2        1     2  938   17    4    3    5   25    6    1\n",
              "3        2     3   16  933    0   36    0    5   26   11\n",
              "4        0     1   13    0  913    3   11    5    9   25\n",
              "5        3     2    0   22    0  798   13    0   19    7\n",
              "6        6     3    8    2    8   16  910    0   15    1\n",
              "7        1     1   13   15    2    4    1  957   11   14\n",
              "8        3     9   24   12    6   16    3    2  872    6\n",
              "9        0     0    4    6   42    7    0   22    4  925"
            ]
          },
          "metadata": {
            "tags": []
          },
          "execution_count": 23
        }
      ]
    },
    {
      "cell_type": "code",
      "metadata": {
        "id": "qJ84wgeUqKlD",
        "colab_type": "code",
        "colab": {
          "base_uri": "https://localhost:8080/",
          "height": 34
        },
        "outputId": "af042136-a2b5-4a67-fa4c-2f8b05048b65"
      },
      "source": [
        "test_wrong = sum(1 for i in zip(y_pred, y_test) if i[0] != i[1]) #条件に一致したら1を出力して、最後に足し合わせる\n",
        "print(\"間違った画像の数は\",test_wrong,\"個です\")"
      ],
      "execution_count": 25,
      "outputs": [
        {
          "output_type": "stream",
          "text": [
            "間違った画像の数は 676 個です\n"
          ],
          "name": "stdout"
        }
      ]
    },
    {
      "cell_type": "code",
      "metadata": {
        "id": "TsAtgEL1qKlF",
        "colab_type": "code",
        "colab": {
          "base_uri": "https://localhost:8080/",
          "height": 51
        },
        "outputId": "e1ca0e82-58a0-4485-c01f-36f5a4addcfe"
      },
      "source": [
        "print(y_pred[0:30])\n",
        "print(y_test[0:30])"
      ],
      "execution_count": 24,
      "outputs": [
        {
          "output_type": "stream",
          "text": [
            "[7 2 1 0 4 1 4 9 6 9 0 6 9 0 1 5 9 7 3 4 9 6 6 5 4 0 7 4 0 1]\n",
            "[7 2 1 0 4 1 4 9 5 9 0 6 9 0 1 5 9 7 3 4 9 6 6 5 4 0 7 4 0 1]\n"
          ],
          "name": "stdout"
        }
      ]
    }
  ]
}