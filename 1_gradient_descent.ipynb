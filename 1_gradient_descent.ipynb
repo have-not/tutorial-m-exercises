{
  "nbformat": 4,
  "nbformat_minor": 0,
  "metadata": {
    "anaconda-cloud": {},
    "kernelspec": {
      "name": "python3",
      "display_name": "Python 3"
    },
    "language_info": {
      "codemirror_mode": {
        "name": "ipython",
        "version": 3
      },
      "file_extension": ".py",
      "mimetype": "text/x-python",
      "name": "python",
      "nbconvert_exporter": "python",
      "pygments_lexer": "ipython3",
      "version": "3.6.5"
    },
    "colab": {
      "name": "1_gradient_descent.ipynb",
      "provenance": [],
      "include_colab_link": true
    },
    "accelerator": "TPU"
  },
  "cells": [
    {
      "cell_type": "markdown",
      "metadata": {
        "id": "view-in-github",
        "colab_type": "text"
      },
      "source": [
        "<a href=\"https://colab.research.google.com/github/have-not/tutorial-ml-exercises/blob/master/1_gradient_descent.ipynb\" target=\"_parent\"><img src=\"https://colab.research.google.com/assets/colab-badge.svg\" alt=\"Open In Colab\"/></a>"
      ]
    },
    {
      "cell_type": "markdown",
      "metadata": {
        "id": "f761cy0-p1xV",
        "colab_type": "text"
      },
      "source": [
        "## 実習1\n",
        "### 最急降下法"
      ]
    },
    {
      "cell_type": "code",
      "metadata": {
        "id": "DDBYMF9sp1xY",
        "colab_type": "code",
        "colab": {}
      },
      "source": [
        "import numpy as np\n",
        "import matplotlib.pyplot as plt\n",
        "%matplotlib inline"
      ],
      "execution_count": 0,
      "outputs": []
    },
    {
      "cell_type": "code",
      "metadata": {
        "id": "8Wi23E0yp1xc",
        "colab_type": "code",
        "colab": {}
      },
      "source": [
        "x = np.linspace(0,99,100)"
      ],
      "execution_count": 0,
      "outputs": []
    },
    {
      "cell_type": "code",
      "metadata": {
        "id": "XTx_Ql-kp1xg",
        "colab_type": "code",
        "colab": {
          "base_uri": "https://localhost:8080/",
          "height": 153
        },
        "outputId": "11c4ad27-3e33-4008-cb3d-56d1e49f9091"
      },
      "source": [
        "x"
      ],
      "execution_count": 3,
      "outputs": [
        {
          "output_type": "execute_result",
          "data": {
            "text/plain": [
              "array([ 0.,  1.,  2.,  3.,  4.,  5.,  6.,  7.,  8.,  9., 10., 11., 12.,\n",
              "       13., 14., 15., 16., 17., 18., 19., 20., 21., 22., 23., 24., 25.,\n",
              "       26., 27., 28., 29., 30., 31., 32., 33., 34., 35., 36., 37., 38.,\n",
              "       39., 40., 41., 42., 43., 44., 45., 46., 47., 48., 49., 50., 51.,\n",
              "       52., 53., 54., 55., 56., 57., 58., 59., 60., 61., 62., 63., 64.,\n",
              "       65., 66., 67., 68., 69., 70., 71., 72., 73., 74., 75., 76., 77.,\n",
              "       78., 79., 80., 81., 82., 83., 84., 85., 86., 87., 88., 89., 90.,\n",
              "       91., 92., 93., 94., 95., 96., 97., 98., 99.])"
            ]
          },
          "metadata": {
            "tags": []
          },
          "execution_count": 3
        }
      ]
    },
    {
      "cell_type": "code",
      "metadata": {
        "id": "7HmhB4lFp1xk",
        "colab_type": "code",
        "colab": {}
      },
      "source": [
        "f_noisy = np.vectorize(lambda x: x * 10 + np.random.normal(0,100))\n",
        "# lambda式で式を書く\n",
        "# np.random.normal(0,100)で平均:0, 分散:100 の正規分布に従う乱数を出力\n",
        "# np.vectorizeでarrayの各値を引数として計算することができる"
      ],
      "execution_count": 0,
      "outputs": []
    },
    {
      "cell_type": "code",
      "metadata": {
        "id": "zOFY5k09p1xn",
        "colab_type": "code",
        "colab": {}
      },
      "source": [
        "# 実データ\n",
        "d = f_noisy(x)"
      ],
      "execution_count": 0,
      "outputs": []
    },
    {
      "cell_type": "code",
      "metadata": {
        "id": "ayGFy5qAp1xp",
        "colab_type": "code",
        "colab": {
          "base_uri": "https://localhost:8080/",
          "height": 312
        },
        "outputId": "cc648a7c-ed58-4a13-fc9f-442df1e53f60"
      },
      "source": [
        "plt.plot(x, d, 'o', color = 'green')\n",
        "#plt.scatter(x, d,  color = 'red') #xとdの関係をプロット\n",
        "plt.ylabel('d')\n",
        "plt.xlabel('x')\n",
        "plt.title('Observed data points')"
      ],
      "execution_count": 6,
      "outputs": [
        {
          "output_type": "execute_result",
          "data": {
            "text/plain": [
              "Text(0.5, 1.0, 'Observed data points')"
            ]
          },
          "metadata": {
            "tags": []
          },
          "execution_count": 6
        },
        {
          "output_type": "display_data",
          "data": {
            "image/png": "[encoded data removed]",
            "text/plain": [
              "<Figure size 432x288 with 1 Axes>"
            ]
          },
          "metadata": {
            "tags": []
          }
        }
      ]
    },
    {
      "cell_type": "code",
      "metadata": {
        "id": "9SjJ665vp1xt",
        "colab_type": "code",
        "colab": {
          "base_uri": "https://localhost:8080/",
          "height": 442
        },
        "outputId": "2cdbfb3c-ca80-4d0a-993d-18362b1bdcdf"
      },
      "source": [
        "#dの中身を表示\n",
        "d"
      ],
      "execution_count": 7,
      "outputs": [
        {
          "output_type": "execute_result",
          "data": {
            "text/plain": [
              "array([ -53.97124961,  -29.4275192 ,   98.75725001,    2.43906323,\n",
              "        -16.01659345, -151.02932139,   30.40686417,  172.16975513,\n",
              "        166.17037791,   25.61600822,   20.53904761,  187.2149542 ,\n",
              "         12.18589675,   36.62269724,   87.22743201,  165.20626589,\n",
              "        165.73636088,  268.80623216,   24.69950607,  138.83272348,\n",
              "        267.12157074,   11.52137351,  191.95251572,    4.80012015,\n",
              "         59.39179766,  277.74082549,  404.51634998,  461.22469185,\n",
              "        148.70454541,  382.58230172,  357.01039535,  303.19456755,\n",
              "        169.84177916,  291.1583507 ,  309.20393649,  362.27190474,\n",
              "        225.11349046,  324.35115792,  270.02694981,  513.89322906,\n",
              "        374.17181031,  582.41077331,  466.83951082,  253.00896293,\n",
              "        324.22389695,  187.20386425,  599.69822306,  256.76854701,\n",
              "        383.07781176,  563.7921445 ,  430.86434252,  357.08697391,\n",
              "        586.44970693,  600.49338907,  531.8271388 ,  459.99668113,\n",
              "        644.04045306,  457.14080479,  651.34697513,  559.63492257,\n",
              "        629.65528174,  707.88315087,  771.34600503,  698.56574776,\n",
              "        646.73989887,  640.96084431,  595.74614971,  837.48035875,\n",
              "        586.61493747,  588.26052592,  597.69026589,  653.26199013,\n",
              "        720.6993071 ,  858.1599125 ,  579.65752685,  800.55792336,\n",
              "        724.53589679,  808.32420409,  609.09874267,  825.08428277,\n",
              "        717.47340948,  885.81817781,  882.00313615,  797.0964732 ,\n",
              "        861.5475765 ,  861.33029992,  895.06881389,  778.10588537,\n",
              "       1018.11155384,  934.94951166,  942.759922  , 1028.06994843,\n",
              "        970.43010676,  767.19505094,  785.49349316,  925.33698406,\n",
              "       1074.31719233,  931.53422417, 1036.66166191,  939.42965311])"
            ]
          },
          "metadata": {
            "tags": []
          },
          "execution_count": 7
        }
      ]
    },
    {
      "cell_type": "markdown",
      "metadata": {
        "id": "n0xtUa6vp1xv",
        "colab_type": "text"
      },
      "source": [
        "$$\n",
        "\\begin{eqnarray}\n",
        "f(x_n; w) = x_n \\times w\\\\\n",
        "E(w) = \\frac{1}{2} \\times \\sum_{n=1}^{N} (d_n - f(x_n; w))^2\\\\\n",
        "\\end{eqnarray}\n",
        "$$\n",
        "\n",
        "wの最適解を最急降下法で求める\n",
        "今回は簡単のためパラメータは一つにする。\n",
        "wは近似直線の傾きを表す。"
      ]
    },
    {
      "cell_type": "code",
      "metadata": {
        "id": "4-7dtSd_p1xw",
        "colab_type": "code",
        "colab": {}
      },
      "source": [
        "#上に書いてある式\n",
        "f = np.vectorize(lambda x, w: x*w)\n",
        "E = np.vectorize(lambda w: 1/2 *sum([(i - j) ** 2 for i, j in zip(d, f(x, w))]))"
      ],
      "execution_count": 0,
      "outputs": []
    },
    {
      "cell_type": "code",
      "metadata": {
        "id": "-5V4DVBTp1xz",
        "colab_type": "code",
        "colab": {
          "base_uri": "https://localhost:8080/",
          "height": 307
        },
        "outputId": "977cb908-7f4f-45b8-f6da-e2eb67adb075"
      },
      "source": [
        "ws = np.linspace(-25,20,46)\n",
        "\n",
        "plt.plot(ws, E(ws), '-', color = 'blue')\n",
        "plt.ylabel('E(w)')\n",
        "plt.xlabel('w')\n",
        "# w = 10辺りが最適っぽい"
      ],
      "execution_count": 9,
      "outputs": [
        {
          "output_type": "execute_result",
          "data": {
            "text/plain": [
              "Text(0.5, 0, 'w')"
            ]
          },
          "metadata": {
            "tags": []
          },
          "execution_count": 9
        },
        {
          "output_type": "display_data",
          "data": {
            "image/png": "[encoded data removed]",
            "text/plain": [
              "<Figure size 432x288 with 1 Axes>"
            ]
          },
          "metadata": {
            "tags": []
          }
        }
      ]
    },
    {
      "cell_type": "markdown",
      "metadata": {
        "id": "s5s1IzAIp1x1",
        "colab_type": "text"
      },
      "source": [
        "## 更新式\n",
        "$$\n",
        "\\begin{eqnarray}\n",
        "w^{(t+1)} = w^{(t)} - \\epsilon \\frac{dE(w)}{dw} \\\\\n",
        "\\end{eqnarray}\n",
        "$$"
      ]
    },
    {
      "cell_type": "markdown",
      "metadata": {
        "id": "WINVAsoop1x2",
        "colab_type": "text"
      },
      "source": [
        "## 勾配\n",
        "$$\n",
        "\\begin{eqnarray}\n",
        "\\nabla E(w) = \\frac{dE(w)}{dw} = \\sum_{n=1}^{N} x^2_n w - \\sum_{n-1}^{n} d_n x_n \\\\\n",
        "\\end{eqnarray}\n",
        "$$"
      ]
    },
    {
      "cell_type": "code",
      "metadata": {
        "id": "4zUmn-Z1p1x3",
        "colab_type": "code",
        "colab": {}
      },
      "source": [
        "def gradient_descent(eps, error=1e-8, iter_max=1000):\n",
        "    '''\n",
        "    eps: 学習係数\n",
        "    error: 収束条件\n",
        "    iter_max: 繰り返し最大回数\n",
        "    '''\n",
        "    \n",
        "    # wの初期値を決める\n",
        "    w = np.random.randint(-20, 20) # -20から20 の間の整数を 1 件出力する\n",
        "    w_history = [w]\n",
        "    \n",
        "    for _ in range(iter_max):\n",
        "        # wの値を更新。\n",
        "        w_next = w - eps * (sum(x * x * w) - sum(d*x)) #上の式\n",
        "        if abs(w_next - w) < error:\n",
        "            break\n",
        "        w = w_next\n",
        "        w_history.append(w)\n",
        "\n",
        "    return w, w_history"
      ],
      "execution_count": 0,
      "outputs": []
    },
    {
      "cell_type": "code",
      "metadata": {
        "id": "EiTN0DBRp1x5",
        "colab_type": "code",
        "colab": {
          "base_uri": "https://localhost:8080/",
          "height": 307
        },
        "outputId": "ebd343af-121a-425e-df3b-1616d1d27832"
      },
      "source": [
        "w, w_history = gradient_descent(eps = 1e-06)\n",
        "\n",
        "plt.plot(ws, E(ws), '-', color = 'blue')\n",
        "plt.plot(w_history, E(w_history), 'o-', label='loss function', color = 'red')\n",
        "\n",
        "plt.legend()\n",
        "plt.xlabel('w')\n",
        "plt.ylabel('E(w)')"
      ],
      "execution_count": 11,
      "outputs": [
        {
          "output_type": "execute_result",
          "data": {
            "text/plain": [
              "Text(0, 0.5, 'E(w)')"
            ]
          },
          "metadata": {
            "tags": []
          },
          "execution_count": 11
        },
        {
          "output_type": "display_data",
          "data": {
            "image/png": "[encoded data removed]",
            "text/plain": [
              "<Figure size 432x288 with 1 Axes>"
            ]
          },
          "metadata": {
            "tags": []
          }
        }
      ]
    },
    {
      "cell_type": "code",
      "metadata": {
        "id": "FZe_MhBCp1x7",
        "colab_type": "code",
        "colab": {
          "base_uri": "https://localhost:8080/",
          "height": 290
        },
        "outputId": "80ab22e7-d9f2-4a49-d81c-852b66015cd3"
      },
      "source": [
        "w, w_history = gradient_descent(1e-07)\n",
        "\n",
        "plt.plot(ws, E(ws), '-', color = 'blue')\n",
        "plt.plot(w_history, E(w_history), 'o-', label='loss function', color = 'red')\n",
        "\n",
        "plt.legend()\n",
        "plt.xlabel('w')\n",
        "plt.ylabel('E(w)')\n",
        "plt.show()"
      ],
      "execution_count": 12,
      "outputs": [
        {
          "output_type": "display_data",
          "data": {
            "image/png": "[encoded data removed]",
            "text/plain": [
              "<Figure size 432x288 with 1 Axes>"
            ]
          },
          "metadata": {
            "tags": []
          }
        }
      ]
    },
    {
      "cell_type": "code",
      "metadata": {
        "id": "i0f5JH-jp1yA",
        "colab_type": "code",
        "colab": {
          "base_uri": "https://localhost:8080/",
          "height": 307
        },
        "outputId": "8966882a-7375-4adb-d1c7-29a53b3b3345"
      },
      "source": [
        "w, w_history = gradient_descent(6.2e-06)\n",
        "\n",
        "plt.plot(ws, E(ws), '-', color = 'blue')\n",
        "plt.plot(w_history, E(w_history), 'o-', label='loss function', color = 'red')\n",
        "\n",
        "plt.legend()\n",
        "plt.xlabel('w')\n",
        "plt.ylabel('E(w)')"
      ],
      "execution_count": 13,
      "outputs": [
        {
          "output_type": "execute_result",
          "data": {
            "text/plain": [
              "Text(0, 0.5, 'E(w)')"
            ]
          },
          "metadata": {
            "tags": []
          },
          "execution_count": 13
        },
        {
          "output_type": "display_data",
          "data": {
            "image/png": "[encoded data removed]",
            "text/plain": [
              "<Figure size 432x288 with 1 Axes>"
            ]
          },
          "metadata": {
            "tags": []
          }
        }
      ]
    },
    {
      "cell_type": "code",
      "metadata": {
        "id": "xHtZLzDap1yC",
        "colab_type": "code",
        "colab": {
          "base_uri": "https://localhost:8080/",
          "height": 312
        },
        "outputId": "4b76d989-4d88-479d-8a84-85a7bb5172e1"
      },
      "source": [
        "plt.scatter(x, d, color = 'green')\n",
        "plt.ylabel('y')\n",
        "plt.xlabel('x')\n",
        "plt.title('Observed data points')\n",
        "\n",
        "y = x*w\n",
        "plt.plot(x,y, color = 'black')"
      ],
      "execution_count": 14,
      "outputs": [
        {
          "output_type": "execute_result",
          "data": {
            "text/plain": [
              "[<matplotlib.lines.Line2D at 0x7f5655b48be0>]"
            ]
          },
          "metadata": {
            "tags": []
          },
          "execution_count": 14
        },
        {
          "output_type": "display_data",
          "data": {
            "image/png": "[encoded data removed]",
            "text/plain": [
              "<Figure size 432x288 with 1 Axes>"
            ]
          },
          "metadata": {
            "tags": []
          }
        }
      ]
    },
    {
      "cell_type": "code",
      "metadata": {
        "id": "nnMO-SRMp1yE",
        "colab_type": "code",
        "colab": {
          "base_uri": "https://localhost:8080/",
          "height": 34
        },
        "outputId": "00ee53c9-41b1-41b9-8a68-c3c1ce51382b"
      },
      "source": [
        "#wの値を表示\n",
        "w"
      ],
      "execution_count": 15,
      "outputs": [
        {
          "output_type": "execute_result",
          "data": {
            "text/plain": [
              "-4.925671351424488e+16"
            ]
          },
          "metadata": {
            "tags": []
          },
          "execution_count": 15
        }
      ]
    },
    {
      "cell_type": "code",
      "metadata": {
        "id": "hHOtlXw8p1yJ",
        "colab_type": "code",
        "colab": {}
      },
      "source": [
        ""
      ],
      "execution_count": 0,
      "outputs": []
    }
  ]
}