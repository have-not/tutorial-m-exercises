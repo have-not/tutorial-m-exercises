{
  "nbformat": 4,
  "nbformat_minor": 0,
  "metadata": {
    "kernelspec": {
      "display_name": "Python 3",
      "language": "python",
      "name": "python3"
    },
    "language_info": {
      "codemirror_mode": {
        "name": "ipython",
        "version": 3
      },
      "file_extension": ".py",
      "mimetype": "text/x-python",
      "name": "python",
      "nbconvert_exporter": "python",
      "pygments_lexer": "ipython3",
      "version": "3.6.5"
    },
    "colab": {
      "name": "7_RNN_Sin波の予測.ipynb",
      "provenance": []
    }
  },
  "cells": [
    {
      "cell_type": "markdown",
      "metadata": {
        "id": "GhUBtHhcdREe",
        "colab_type": "text"
      },
      "source": [
        "# 実習7\n",
        "### RNNを用いてSin波の続きを予測\n",
        "\n",
        "### 参考\n",
        "詳解-ディープラーニング-TensorFlow・Kerasによる時系列データ処理(https://www.amazon.co.jp/詳解-ディープラーニング-TensorFlow・Kerasによる時系列データ処理-巣籠-悠輔-ebook/dp/B072JC21DH/ref=dp_kinw_strp_1)\n",
        "https://www.infiniteloop.co.jp/blog/2018/02/learning-keras-07/"
      ]
    },
    {
      "cell_type": "code",
      "metadata": {
        "id": "avB0cHqWdREi",
        "colab_type": "code",
        "colab": {}
      },
      "source": [
        "import numpy as np\n",
        "import matplotlib.pyplot as plt\n",
        "%matplotlib inline\n",
        " \n",
        "def sin2p(x, t=100):\n",
        "    return np.sin(2.0 * np.pi * x / t) # sin(2πx/t), t = 周期\n",
        " \n",
        "def sindata(t=100, cycle=2):\n",
        "    x = np.arange(0, cycle*t) # 0 から cycle * t 未満の数\n",
        "    return sin2p(x)\n",
        " \n",
        "plt.plot(sindata(100, 2)) # 1周期100個データ、2周期分\n",
        "plt.show()"
      ],
      "execution_count": 0,
      "outputs": []
    },
    {
      "cell_type": "code",
      "metadata": {
        "id": "x0_Xp_ZrdREp",
        "colab_type": "code",
        "colab": {}
      },
      "source": [
        "# Sin波にランダムノイズを加える\n",
        "def noisy(Y, noise_range=(-0.05, 0.05)):\n",
        "    noise = np.random.uniform(noise_range[0], noise_range[1], size=Y.shape) #random.uniform(low, high): low以上high未満の一様乱数を1個生成\n",
        "    return Y + noise\n",
        " \n",
        "plt.plot(noisy(sindata(100, 2), (-0.05, 0.05) ))\n",
        "plt.show()"
      ],
      "execution_count": 0,
      "outputs": []
    },
    {
      "cell_type": "code",
      "metadata": {
        "id": "xd8QCG2edREt",
        "colab_type": "code",
        "colab": {}
      },
      "source": [
        "# training dataとvalidaiton dataの準備\n",
        "\n",
        "from sklearn.model_selection import train_test_split\n",
        " \n",
        "np.random.seed(0)\n",
        " \n",
        "rawdata = noisy(sindata(100,2), (-0.05, 0.05)) # 2周期分のノイズあり sin 波データを生成\n",
        "#rawdata = sindata(100,2) # 2周期分のノイズ無し sin 波データを生成\n",
        "inputlen = 20 # 1入力データはデータ 20 個としました\n",
        " \n",
        "input=[]\n",
        "target=[]\n",
        "for i in range(0, len(rawdata) - inputlen):  # range(0, 180)   0 .. 179 の 180回実行\n",
        "    input.append( rawdata[i:i+inputlen] )  # [i:i+20] のスライスで i から i+19 の20個を入力データに追加\n",
        "    target.append( rawdata[i+inputlen] )  # [i+20] がその直前までのデータ群 [i:i+20] の正解値となるのでターゲットに追加\n",
        "\n",
        "    \n",
        "# numpyの3次元配列に変換\n",
        "X = np.array(input).reshape(len(input), inputlen, 1) # 入力データ (180, 20, 1)\n",
        "Y = np.array(target).reshape(len(input), 1) # ターゲット (180, 1)\n",
        " \n",
        "# トレーニングと評価用にデータを 8:2 に分割します。デフォルトがシャッフルなのでしないようにFlaseに\n",
        "train_x, val_x, train_y, val_y = train_test_split(X, Y, test_size=int(len(X) * 0.2), shuffle=False)\n",
        " \n",
        "# 訓練データの正解値 y と評価用データの正解値 val_y のグラフ\n",
        "plt.plot(train_y, label=\"training\")\n",
        "plt.plot(val_y, label=\"validate\")\n",
        "plt.title('Target Values')\n",
        "plt.legend()\n",
        "plt.show()\n"
      ],
      "execution_count": 0,
      "outputs": []
    },
    {
      "cell_type": "code",
      "metadata": {
        "id": "S-TnfskJdREw",
        "colab_type": "code",
        "colab": {}
      },
      "source": [
        "# SimpleRNNのモデルを作成する\n",
        "\n",
        "from keras.layers.recurrent import SimpleRNN\n",
        "from keras.models import Sequential\n",
        "from keras.optimizers import Adam\n",
        "from keras.layers import Dense, Activation\n",
        " \n",
        "n_in = 1\n",
        "n_hidden = 20\n",
        "n_out = 1\n",
        "epochs = 20\n",
        "batch_size = 16\n",
        "\n",
        "model=Sequential()\n",
        "model.add(SimpleRNN(n_hidden, input_shape=(inputlen, n_in)))\n",
        "model.add(Dense(n_out))\n",
        "model.add(Activation('linear'))\n",
        "model.summary()\n"
      ],
      "execution_count": 0,
      "outputs": []
    },
    {
      "cell_type": "code",
      "metadata": {
        "id": "2lasGkpedREz",
        "colab_type": "code",
        "colab": {}
      },
      "source": [
        "# compileします\n",
        "model.compile(loss='mean_squared_error', \n",
        "              optimizer=Adam(lr=0.01))"
      ],
      "execution_count": 0,
      "outputs": []
    },
    {
      "cell_type": "code",
      "metadata": {
        "id": "khmRTgHJdRE2",
        "colab_type": "code",
        "colab": {}
      },
      "source": [
        "# 学習\n",
        "\n",
        "# early stopping (val_lossが小さくなったら学習を打ち切る設定)\n",
        "from keras.callbacks import EarlyStopping\n",
        "EarlyStopping = EarlyStopping(monitor='val_loss', patience=3, verbose=1, mode='auto')\n",
        "\"\"\"\n",
        "arguments: description\n",
        "monitor: 監視値指定．例えば，monitor='val_loss'\n",
        "patience: ループの最低数(monitorの値が改善しなくなってから何epochで止めるか)\n",
        "verbose: 保存時に標準出力にコメントを出すか指定．{0, 1}\n",
        "mode: 上限，下限どちらの側に収束した場合に収束判定を出すかの規定．{auto, min, max}\n",
        "\"\"\"\n",
        "\n",
        "model.fit(train_x, train_y, \n",
        "          batch_size=batch_size, \n",
        "          epochs=epochs, \n",
        "          validation_data=(val_x, val_y),\n",
        "          callbacks=[EarlyStopping])"
      ],
      "execution_count": 0,
      "outputs": []
    },
    {
      "cell_type": "code",
      "metadata": {
        "id": "KxtLcAtEdRE5",
        "colab_type": "code",
        "colab": {}
      },
      "source": [
        "# 本来は評価データを使うべきですが、グラフの見栄え的に元データの左端を与えて\n",
        "# 右側を予測させたかったので訓練データ x の先頭を与える\n",
        " \n",
        "in_ = train_x[:1] # x の先頭 (1,20,1) 配列\n",
        " \n",
        "# グラフで予測データ（オレンジ）が入力データ（緑）の後に来るように\n",
        "# 予測データの先頭に None を20個入れる\n",
        "predicted = [None for _ in range(inputlen)] \n",
        " \n",
        "for _ in range(len(rawdata) - inputlen):\n",
        "    out_ = model.predict(in_) # 予測した値 out_ は (1,1) 配列\n",
        "     \n",
        "    # in_ を (20,1) 配列に変換し、先頭1個をスライスして削り、末尾に out_ を足す。\n",
        "    # 最後に再度 (1,20,1) 配列に変換して、全体を次の in_ にする\n",
        "    in_ = np.concatenate( (in_.reshape(inputlen, n_in)[1:], out_), axis=0 ).reshape(1, inputlen, n_in)\n",
        "     \n",
        "    # out_ は (1,1) 配列なので任意の長さの一次元配列に変換する reshape(-1) をかけてから予測データに追加\n",
        "    predicted.append(out_.reshape(-1))\n",
        "\n",
        "plt.title('Predict sin wave')   \n",
        "plt.plot(rawdata, label=\"original\")\n",
        "plt.plot(predicted, label=\"predicted\")\n",
        "plt.plot(train_x[0], label=\"input\")\n",
        "plt.legend()\n",
        "plt.show()\n"
      ],
      "execution_count": 0,
      "outputs": []
    },
    {
      "cell_type": "code",
      "metadata": {
        "id": "KV8yL1KVdRFI",
        "colab_type": "code",
        "colab": {}
      },
      "source": [
        ""
      ],
      "execution_count": 0,
      "outputs": []
    }
  ]
}