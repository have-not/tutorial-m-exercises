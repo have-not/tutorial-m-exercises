{
  "nbformat": 4,
  "nbformat_minor": 0,
  "metadata": {
    "kernelspec": {
      "display_name": "Python 3",
      "language": "python",
      "name": "python3"
    },
    "language_info": {
      "codemirror_mode": {
        "name": "ipython",
        "version": 3
      },
      "file_extension": ".py",
      "mimetype": "text/x-python",
      "name": "python",
      "nbconvert_exporter": "python",
      "pygments_lexer": "ipython3",
      "version": "3.6.5"
    },
    "colab": {
      "name": "6_CBOW_model.ipynb",
      "provenance": []
    }
  },
  "cells": [
    {
      "cell_type": "markdown",
      "metadata": {
        "id": "lrF-Lhz3cTVs",
        "colab_type": "text"
      },
      "source": [
        "# 実習6\n",
        "### CBOWをkerasで実装\n",
        "\n",
        "### 参照\n",
        "(https://github.com/nzw0301/keras-examples/blob/master/CBoW.ipynb)\n"
      ]
    },
    {
      "cell_type": "code",
      "metadata": {
        "id": "ovPRM-w0cTVv",
        "colab_type": "code",
        "outputId": "6fbfd753-b27d-4f83-c55d-11562e823ebd",
        "colab": {}
      },
      "source": [
        "import numpy as np\n",
        "np.random.seed(13)\n",
        "\n",
        "import keras.backend as K\n",
        "from keras.models import Sequential\n",
        "from keras.layers import Dense, Embedding, Lambda\n",
        "from keras.utils.data_utils import get_file\n",
        "from keras.utils import np_utils\n",
        "from keras.preprocessing import sequence\n",
        "from keras.preprocessing.text import Tokenizer"
      ],
      "execution_count": 0,
      "outputs": [
        {
          "output_type": "stream",
          "text": [
            "/Users/Niioka/anaconda/lib/python3.6/site-packages/h5py/__init__.py:36: FutureWarning: Conversion of the second argument of issubdtype from `float` to `np.floating` is deprecated. In future, it will be treated as `np.float64 == np.dtype(float).type`.\n",
            "  from ._conv import register_converters as _register_converters\n",
            "Using TensorFlow backend.\n"
          ],
          "name": "stderr"
        }
      ]
    },
    {
      "cell_type": "code",
      "metadata": {
        "id": "B5n-PP-qcTV1",
        "colab_type": "code",
        "colab": {}
      },
      "source": [
        "# 学習データの準備1\n",
        "\n",
        "#get_fileでalice.txtをダウンロード (get_fileについては-->https://keras.io/ja/utils/)\n",
        "path = get_file('alice.txt', origin='http://www.gutenberg.org/files/11/11-0.txt')\n",
        "\n",
        "#readlines() – ファイルを全て読み込み、1行毎に処理を行う。1000行まで読み込む。\n",
        "corpus = open(path).readlines()[:1000]\n",
        "\n",
        "corpus"
      ],
      "execution_count": 0,
      "outputs": []
    },
    {
      "cell_type": "code",
      "metadata": {
        "id": "MHfe9kzIcTV5",
        "colab_type": "code",
        "colab": {}
      },
      "source": [
        "# 学習データの準備2\n",
        "\n",
        "#spaceが2個以上の要素を返す。つまり、単語が3つ以上の文章。\n",
        "corpus = [sentence for sentence in corpus if sentence.count(' ') >= 2]\n",
        "\n",
        "corpus"
      ],
      "execution_count": 0,
      "outputs": []
    },
    {
      "cell_type": "code",
      "metadata": {
        "id": "CF4-TPi4cTV8",
        "colab_type": "code",
        "colab": {}
      },
      "source": [
        "# 学習データの準備3\n",
        "\n",
        "#単語列を単語ID列に変換\n",
        "#Tokenizerを作成\n",
        "tokenizer = Tokenizer() # 例えば引数として num_words = 100とすると単語IDを100までしか設定しない。引数がないときは最大値をとってくれる。\n",
        "#単語のインデックスを構築\n",
        "tokenizer.fit_on_texts(corpus)\n",
        "#文字列を整数のインデックスのリストに変換\n",
        "corpus = tokenizer.texts_to_sequences(corpus)\n",
        "\n",
        "#corpusが単語IDのリストになってることを確認\n",
        "corpus"
      ],
      "execution_count": 0,
      "outputs": []
    },
    {
      "cell_type": "code",
      "metadata": {
        "id": "C2X-AhpicTV_",
        "colab_type": "code",
        "colab": {}
      },
      "source": [
        "#単語IDの数(単語数)をカウント\n",
        "nb_samples = sum(len(s) for s in corpus)\n",
        "\n",
        "# 次元数 = 語彙数 (単語IDの種類)\n",
        "# (後続処理で、空文字分の0が増えるため+1する)\n",
        "vocab_size = len(tokenizer.word_index) + 1\n",
        "\n",
        "#windowサイズの設定\n",
        "window_size = 1"
      ],
      "execution_count": 0,
      "outputs": []
    },
    {
      "cell_type": "code",
      "metadata": {
        "id": "vWpI5kkdcTWB",
        "colab_type": "code",
        "colab": {}
      },
      "source": [
        "# 学習データを作成\n",
        "#def generate_data(corpus, window_size, vocab_size):\n",
        "contexts = []\n",
        "targets   = []   \n",
        "for words in corpus:\n",
        "    L = len(words)\n",
        "    for index, word in enumerate(words): \n",
        "        s = index - window_size\n",
        "        e = index + window_size + 1\n",
        "            \n",
        "        #コンテキストとtargetの作成\n",
        "        contexts.append([words[i] for i in range(s, e) if 0 <= i < L and i != index])\n",
        "        targets.append(word)\n",
        "\n",
        "        x_train = sequence.pad_sequences(contexts, maxlen=window_size*2) #sequenceが全て同じ長さになるよう0で埋める(パディング)\n",
        "        y_train = np_utils.to_categorical(targets, vocab_size) #one-hotデータに変換"
      ],
      "execution_count": 0,
      "outputs": []
    },
    {
      "cell_type": "code",
      "metadata": {
        "id": "Rvk5mc_qcTWE",
        "colab_type": "code",
        "outputId": "11e6369b-75c3-4ffb-e2de-10d51760dbb9",
        "colab": {}
      },
      "source": [
        "#x_train(context)とy_train(target)を見てみる\n",
        "print(x_train.shape, y_train.shape)\n",
        "print(x_train[0:7])\n",
        "print(y_train[0:7])\n",
        "print(y_train[0][781])\n",
        "print(y_train[1][782])\n",
        "print(y_train[2][186])\n",
        "\n",
        "#単語IDの最大値が1597とわかる(語彙数は1596)"
      ],
      "execution_count": 0,
      "outputs": [
        {
          "output_type": "stream",
          "text": [
            "(9259, 2) (9259, 1597)\n",
            "[[  0 782]\n",
            " [781 186]\n",
            " [782 321]\n",
            " [186  11]\n",
            " [321 322]\n",
            " [ 11  68]\n",
            " [322 510]]\n",
            "[[0. 0. 0. ... 0. 0. 0.]\n",
            " [0. 0. 0. ... 0. 0. 0.]\n",
            " [0. 0. 0. ... 0. 0. 0.]\n",
            " ...\n",
            " [0. 0. 0. ... 0. 0. 0.]\n",
            " [0. 0. 0. ... 0. 0. 0.]\n",
            " [0. 0. 0. ... 0. 0. 0.]]\n",
            "1.0\n",
            "1.0\n",
            "1.0\n"
          ],
          "name": "stdout"
        }
      ]
    },
    {
      "cell_type": "code",
      "metadata": {
        "id": "HJULscvKcTWG",
        "colab_type": "code",
        "colab": {}
      },
      "source": [
        "# ハイパーパラメータ\n",
        "hidden_size = 100\n",
        "batch_size = 32\n",
        "max_epoch = 50"
      ],
      "execution_count": 0,
      "outputs": []
    },
    {
      "cell_type": "code",
      "metadata": {
        "id": "0OYkLlTZcTWI",
        "colab_type": "code",
        "outputId": "01bc704f-ab88-4b29-e166-cb93c6140d05",
        "colab": {}
      },
      "source": [
        "#　学習を行う\n",
        "\n",
        "model = Sequential()\n",
        "model.add(Embedding(input_dim=vocab_size, output_dim=hidden_size, input_length=window_size*2))\n",
        "model.add(Lambda(lambda x: K.mean(x, axis=1), output_shape=(hidden_size,))) #k.meanは要素の平均を計算\n",
        "model.add(Dense(vocab_size, activation='softmax'))\n",
        "model.summary()\n",
        "#(Embedding)のparameter数がちゃんと1597(語彙数)x 100(中間層のノード数)になっている"
      ],
      "execution_count": 0,
      "outputs": [
        {
          "output_type": "stream",
          "text": [
            "_________________________________________________________________\n",
            "Layer (type)                 Output Shape              Param #   \n",
            "=================================================================\n",
            "embedding_1 (Embedding)      (None, 2, 100)            159700    \n",
            "_________________________________________________________________\n",
            "lambda_1 (Lambda)            (None, 100)               0         \n",
            "_________________________________________________________________\n",
            "dense_1 (Dense)              (None, 1597)              161297    \n",
            "=================================================================\n",
            "Total params: 320,997\n",
            "Trainable params: 320,997\n",
            "Non-trainable params: 0\n",
            "_________________________________________________________________\n"
          ],
          "name": "stdout"
        }
      ]
    },
    {
      "cell_type": "code",
      "metadata": {
        "id": "n_O7GDWhcTWL",
        "colab_type": "code",
        "colab": {}
      },
      "source": [
        "model.compile(loss='categorical_crossentropy', \n",
        "              optimizer='adam', \n",
        "              metrics=['accuracy'])"
      ],
      "execution_count": 0,
      "outputs": []
    },
    {
      "cell_type": "code",
      "metadata": {
        "id": "3hZicshXcTWN",
        "colab_type": "code",
        "colab": {}
      },
      "source": [
        "# 学習\n",
        "hist = model.fit(x_train, y_train, \n",
        "                 batch_size=batch_size, \n",
        "                 epochs=max_epoch,\n",
        "                 verbose=1,\n",
        "                 validation_split=0.1)"
      ],
      "execution_count": 0,
      "outputs": []
    },
    {
      "cell_type": "code",
      "metadata": {
        "id": "_eEKpr5bcTWP",
        "colab_type": "code",
        "outputId": "a4c2f963-93c9-4b38-af50-46adb49baf14",
        "colab": {}
      },
      "source": [
        "import matplotlib.pyplot as plt\n",
        "%matplotlib inline\n",
        "\n",
        "acc = hist.history['acc']\n",
        "val_acc = hist.history['val_acc']\n",
        "loss = hist.history['loss']\n",
        "val_loss = hist.history['val_loss']\n",
        "\n",
        "# lossのグラフ\n",
        "plt.figure(figsize=(15, 5))\n",
        "plt.subplot(121)\n",
        "plt.plot(range(max_epoch), loss, marker='.', label='loss')\n",
        "plt.plot(range(max_epoch), val_loss, marker='.', label='val_loss')\n",
        "plt.legend(loc='best', fontsize=10)\n",
        "plt.grid()\n",
        "plt.xlabel('epoch')\n",
        "plt.ylabel('loss')\n",
        "\n",
        "# accuracyのグラフ\n",
        "plt.subplot(122)\n",
        "plt.plot(range(max_epoch), acc, marker='.', label='acc')\n",
        "plt.plot(range(max_epoch), val_acc, marker='.', label='val_acc')\n",
        "plt.legend(loc='best', fontsize=10)\n",
        "plt.grid()\n",
        "plt.xlabel('epoch')\n",
        "plt.ylabel('acc')\n",
        "plt.show()"
      ],
      "execution_count": 0,
      "outputs": [
        {
          "output_type": "display_data",
          "data": {
            "image/png": "[encoded data removed]",
            "text/plain": [
              "<Figure size 1080x360 with 2 Axes>"
            ]
          },
          "metadata": {
            "tags": []
          }
        }
      ]
    },
    {
      "cell_type": "code",
      "metadata": {
        "id": "ROnMhO4rcTWR",
        "colab_type": "code",
        "outputId": "ff6a9462-2151-4b68-c114-81728b70699c",
        "colab": {}
      },
      "source": [
        "#重みを保存するファイルを作る\n",
        "f = open('CBOW_vectors.txt' ,mode='w') \n",
        "f.write('{} {}\\n'.format(vocab_size-1, hidden_size)) #{}にそれぞれvocab_size-1とhidden_sizeが書き込まれる。\n",
        "#open()の引数modeを'w'とすると書き込み用としてファイルが開かれる。\n",
        "#ファイルが存在しなければ新規作成、存在していれば上書き（既存の内容は削除）で保存される。"
      ],
      "execution_count": 0,
      "outputs": [
        {
          "output_type": "execute_result",
          "data": {
            "text/plain": [
              "9"
            ]
          },
          "metadata": {
            "tags": []
          },
          "execution_count": 13
        }
      ]
    },
    {
      "cell_type": "code",
      "metadata": {
        "id": "Vx8Tun4wcTWV",
        "colab_type": "code",
        "colab": {}
      },
      "source": [
        "vectors = model.get_weights()[0] #入力層と中間層の間の重みの取得\n",
        "for word, i in tokenizer.word_index.items(): \n",
        "    str_vec = ' '.join(map(str, list(vectors[i, :])))\n",
        "    f.write('{} {}\\n'.format(word, str_vec))\n",
        "f.close()\n",
        "\n",
        "#tokenizer.word_index.items()は単語と単語IDのdictionary\n",
        "#str_vecは各word毎の重みベクトル<--これと単語をセットにして.txtファイルとして保存"
      ],
      "execution_count": 0,
      "outputs": []
    },
    {
      "cell_type": "code",
      "metadata": {
        "id": "GvOnrfMHcTWX",
        "colab_type": "code",
        "outputId": "1db2509b-68db-4768-ad37-52a6baf0b0fd",
        "colab": {}
      },
      "source": [
        "#tokenizer.word_index.items()の中身を見る\n",
        "tokenizer.word_index.items()"
      ],
      "execution_count": 0,
      "outputs": [
        {
          "output_type": "execute_result",
          "data": {
            "text/plain": [
              "dict_items([('the', 1), ('and', 2), ('to', 3), ('she', 4), ('a', 5), ('’', 6), ('it', 7), ('of', 8), ('was', 9), ('i', 10), ('in', 11), ('alice', 12), ('her', 13), ('that', 14), ('you', 15), ('as', 16), ('said', 17), ('for', 18), ('had', 19), ('at', 20), ('little', 21), ('be', 22), ('this', 23), ('but', 24), ('all', 25), ('with', 26), ('on', 27), ('down', 28), ('very', 29), ('out', 30), ('so', 31), ('not', 32), ('is', 33), ('herself', 34), ('up', 35), ('mouse', 36), ('me', 37), ('about', 38), ('one', 39), ('no', 40), ('if', 41), ('do', 42), ('‘i', 43), ('what', 44), ('they', 45), ('then', 46), ('thought', 47), ('way', 48), ('again', 49), ('like', 50), ('when', 51), ('or', 52), ('there', 53), ('see', 54), ('know', 55), ('went', 56), ('how', 57), ('here', 58), ('could', 59), ('think', 60), ('rabbit', 61), ('time', 62), ('get', 63), ('into', 64), ('quite', 65), ('were', 66), ('them', 67), ('by', 68), ('would', 69), ('oh', 70), ('must', 71), ('my', 72), ('i’m', 73), ('now', 74), ('thing', 75), ('dear', 76), ('its', 77), ('off', 78), ('go', 79), ('have', 80), ('began', 81), ('soon', 82), ('more', 83), ('found', 84), ('such', 85), ('door', 86), ('any', 87), ('i’ll', 88), ('did', 89), ('much', 90), ('an', 91), ('got', 92), ('long', 93), ('round', 94), ('say', 95), ('over', 96), ('after', 97), ('wonder', 98), ('first', 99), ('which', 100), ('who', 101), ('feet', 102), ('never', 103), ('moment', 104), ('great', 105), ('came', 106), ('your', 107), ('once', 108), ('‘and', 109), ('looked', 110), ('just', 111), ('put', 112), ('eat', 113), ('it’s', 114), ('poor', 115), ('only', 116), ('back', 117), ('can', 118), ('sure', 119), ('heard', 120), ('voice', 121), ('dodo', 122), ('made', 123), ('shall', 124), ('seemed', 125), ('large', 126), ('some', 127), ('come', 128), ('things', 129), ('wish', 130), ('are', 131), ('tell', 132), ('ever', 133), ('other', 134), ('head', 135), ('will', 136), ('don’t', 137), ('last', 138), ('before', 139), ('good', 140), ('dinah', 141), ('cats', 142), ('half', 143), ('gloves', 144), ('he', 145), ('nothing', 146), ('look', 147), ('going', 148), ('next', 149), ('anything', 150), ('house', 151), ('i’ve', 152), ('sort', 153), ('right', 154), ('table', 155), ('find', 156), ('bottle', 157), ('cried', 158), ('fan', 159), ('bill', 160), ('caterpillar', 161), ('use', 162), ('away', 163), ('getting', 164), ('white', 165), ('eyes', 166), ('ran', 167), ('took', 168), ('another', 169), ('make', 170), ('too', 171), ('upon', 172), ('why', 173), ('let', 174), ('words', 175), ('through', 176), ('might', 177), ('question', 178), ('been', 179), ('glass', 180), ('however', 181), ('pool', 182), ('his', 183), ('being', 184), ('something', 185), ('alice’s', 186), ('under', 187), ('well', 188), ('‘oh', 189), ('either', 190), ('tried', 191), ('from', 192), ('rather', 193), ('saying', 194), ('felt', 195), ('hall', 196), ('key', 197), ('small', 198), ('high', 199), ('garden', 200), ('indeed', 201), ('‘what', 202), ('while', 203), ('two', 204), ('‘but', 205), ('enough', 206), ('grow', 207), ('am', 208), ('can’t', 209), ('tone', 210), ('looking', 211), ('suddenly', 212), ('‘well', 213), ('it’ll', 214), ('air', 215), ('talking', 216), ('should', 217), ('afraid', 218), ('hand', 219), ('dry', 220), ('trying', 221), ('than', 222), ('tears', 223), ('growing', 224), ('same', 225), ('won’t', 226), ('queer', 227), ('doesn’t', 228), ('”', 229), ('till', 230), ('called', 231), ('birds', 232), ('old', 233), ('silence', 234), ('room', 235), ('window', 236), ('tired', 237), ('book', 238), ('day', 239), ('ought', 240), ('take', 241), ('near', 242), ('idea', 243), ('their', 244), ('low', 245), ('golden', 246), ('without', 247), ('happened', 248), ('size', 249), ('best', 250), ('sat', 251), ('against', 252), ('‘you', 253), ('changed', 254), ('try', 255), ('‘how', 256), ('beg', 257), ('yet', 258), ('our', 259), ('lory', 260), ('race', 261), ('course', 262), ('him', 263), ('chimney', 264), ('puppy', 265), ('almost', 266), ('set', 267), ('chapter', 268), ('hole', 269), ('having', 270), ('mind', 271), ('making', 272), ('seen', 273), ('fell', 274), ('happen', 275), ('coming', 276), ('fall', 277), ('even', 278), ('many', 279), ('four', 280), ('lessons', 281), ('still', 282), ('nice', 283), ('among', 284), ('people', 285), ('perhaps', 286), ('remember', 287), ('‘now', 288), ('turned', 289), ('behind', 290), ('rate', 291), ('larger', 292), ('those', 293), ('‘it', 294), ('really', 295), ('marked', 296), ('waited', 297), ('there’s', 298), ('hardly', 299), ('anxiously', 300), ('english', 301), ('deal', 302), ('pair', 303), ('‘a', 304), ('hastily', 305), ('kid', 306), ('ready', 307), ('hard', 308), ('everything', 309), ('times', 310), ('hadn’t', 311), ('swam', 312), ('talk', 313), ('offended', 314), ('always', 315), ('whole', 316), ('party', 317), ('replied', 318), ('‘the', 319), ('arm', 320), ('adventures', 321), ('wonderland', 322), ('ebook', 323), ('pictures', 324), ('own', 325), ('hot', 326), ('feel', 327), ('close', 328), ('hear', 329), ('itself', 330), ('late', 331), ('pocket', 332), ('hurried', 333), ('noticed', 334), ('they’ll', 335), ('home', 336), ('top', 337), ('fallen', 338), ('several', 339), ('that’s', 340), ('distance', 341), ('seem', 342), ('heads', 343), ('didn’t', 344), ('ask', 345), ('please', 346), ('fancy', 347), ('else', 348), ('cat', 349), ('mice', 350), ('bats', 351), ('bit', 352), ('roof', 353), ('side', 354), ('every', 355), ('middle', 356), ('alas', 357), ('along', 358), ('bright', 359), ('few', 360), ('waiting', 361), ('hurry', 362), ('children', 363), ('hold', 364), ('drink', 365), ('curious', 366), ('face', 367), ('‘for', 368), ('minute', 369), ('box', 370), ('‘to', 371), ('lying', 372), ('surprised', 373), ('life', 374), ('myself', 375), ('foot', 376), ('duchess', 377), ('kept', 378), ('‘i’m', 379), ('mabel', 380), ('she’s', 381), ('capital', 382), ('tail', 383), ('stay', 384), ('rabbit’s', 385), ('suppose', 386), ('pardon', 387), ('‘we', 388), ('conversation', 389), ('fetch', 390), ('us', 391), ('crowded', 392), ('turning', 393), ('prizes', 394), ('ann', 395), ('broken', 396), ('‘sure', 397), ('yer', 398), ('honour', 399), ('bill’s', 400), ('stick', 401), ('give', 402), ('gutenberg', 403), ('sleepy', 404), ('world', 405), ('deep', 406), ('slowly', 407), ('dark', 408), ('saw', 409), ('somebody', 410), ('managed', 411), ('wouldn’t', 412), ('likely', 413), ('end', 414), ('opportunity', 415), ('listen', 416), ('‘', 417), ('walk', 418), ('name', 419), ('you’re', 420), ('manage', 421), ('she’ll', 422), ('night', 423), ('hope', 424), ('catch', 425), ('‘do', 426), ('answer', 427), ('passage', 428), ('sight', 429), ('corner', 430), ('three', 431), ('tiny', 432), ('inches', 433), ('opened', 434), ('shut', 435), ('knew', 436), ('begin', 437), ('certainly', 438), ('‘drink', 439), ('finger', 440), ('forgotten', 441), ('certain', 442), ('finished', 443), ('minutes', 444), ('altogether', 445), ('candle', 446), ('reach', 447), ('generally', 448), ('gave', 449), ('remembered', 450), ('left', 451), ('person', 452), ('eye', 453), ('cake', 454), ('smaller', 455), ('happens', 456), ('speak', 457), ('far', 458), ('shan’t', 459), ('stop', 460), ('pattering', 461), ('help', 462), ('‘if', 463), ('sir', 464), ('dropped', 465), ('morning', 466), ('different', 467), ('goes', 468), ('used', 469), ('“’', 470), ('sounded', 471), ('seems', 472), ('spread', 473), ('learn', 474), ('sudden', 475), ('shrinking', 476), ('cause', 477), ('‘that', 478), ('frightened', 479), ('change', 480), ('water', 481), ('case', 482), ('understand', 483), ('history', 484), ('lesson', 485), ('‘not', 486), ('angry', 487), ('trembling', 488), ('dogs', 489), ('eagerly', 490), ('says', 491), ('animals', 492), ('duck', 493), ('eaglet', 494), ('caucus', 495), ('tale', 496), ('‘why', 497), ('explain', 498), ('running', 499), ('liked', 500), ('has', 501), ('chorus', 502), ('voices', 503), ('thimble', 504), ('short', 505), ('mary', 506), ('i’d', 507), ('better', 508), ('cakes', 509), ('lewis', 510), ('carroll', 511), ('may', 512), ('project', 513), ('date', 514), ('beginning', 515), ('sitting', 516), ('sister', 517), ('bank', 518), ('peeped', 519), ('considering', 520), ('stupid', 521), ('whether', 522), ('worth', 523), ('trouble', 524), ('remarkable', 525), ('occurred', 526), ('natural', 527), ('watch', 528), ('waistcoat', 529), ('started', 530), ('across', 531), ('hedge', 532), ('falling', 533), ('sides', 534), ('filled', 535), ('cupboards', 536), ('shelves', 537), ('jar', 538), ('fear', 539), ('stairs', 540), ('miles', 541), ('aloud', 542), ('somewhere', 543), ('earth', 544), ('thousand', 545), ('though', 546), ('knowledge', 547), ('latitude', 548), ('longitude', 549), ('presently', 550), ('funny', 551), ('glad', 552), ('sound', 553), ('new', 554), ('spoke', 555), ('girl', 556), ('asking', 557), ('written', 558), ('bat', 559), ('sometimes', 560), ('couldn’t', 561), ('matter', 562), ('begun', 563), ('walking', 564), ('thump', 565), ('leaves', 566), ('hurt', 567), ('jumped', 568), ('lost', 569), ('ears', 570), ('whiskers', 571), ('longer', 572), ('row', 573), ('hanging', 574), ('doors', 575), ('walked', 576), ('sadly', 577), ('open', 578), ('second', 579), ('delight', 580), ('led', 581), ('flowers', 582), ('telescope', 583), ('hoping', 584), ('rules', 585), ('shutting', 586), ('‘which', 587), ('neck', 588), ('label', 589), ('me’', 590), ('beautifully', 591), ('read', 592), ('burn', 593), ('usually', 594), ('‘poison', 595), ('sooner', 596), ('taste', 597), ('finding', 598), ('fact', 599), ('feeling', 600), ('lovely', 601), ('‘in', 602), ('possibly', 603), ('‘come', 604), ('crying', 605), ('sharply', 606), ('leave', 607), ('advice', 608), ('severely', 609), ('bring', 610), ('game', 611), ('child', 612), ('fond', 613), ('makes', 614), ('holding', 615), ('expecting', 616), ('forgot', 617), ('opening', 618), ('dears', 619), ('kind', 620), ('want', 621), ('sending', 622), ('nonsense', 623), ('nine', 624), ('cry', 625), ('yourself', 626), ('trotting', 627), ('muttering', 628), ('thinking', 629), ('age', 630), ('hair', 631), ('ringlets', 632), ('sorts', 633), ('puzzling', 634), ('paris', 635), ('rome', 636), ('doth', 637), ('hands', 638), ('neatly', 639), ('play', 640), ('alone', 641), ('done', 642), ('nearly', 643), ('guess', 644), ('narrow', 645), ('escape', 646), ('bad', 647), ('these', 648), ('slipped', 649), ('salt', 650), ('sea', 651), ('railway', 652), ('general', 653), ('number', 654), ('digging', 655), ('‘would', 656), ('swimming', 657), ('o', 658), ('speaking', 659), ('french', 660), ('william', 661), ('conqueror', 662), ('ma', 663), ('feelings', 664), ('show', 665), ('you’d', 666), ('paws', 667), ('nurse', 668), ('catching', 669), ('‘as', 670), ('subject', 671), ('‘are', 672), ('‘there', 673), ('useful', 674), ('sorrowful', 675), ('we', 676), ('shore', 677), ('you’ll', 678), ('hate', 679), ('fur', 680), ('wet', 681), ('uncomfortable', 682), ('older', 683), ('knowing', 684), ('ring', 685), ('wanted', 686), ('morcar', 687), ('earls', 688), ('mercia', 689), ('northumbria', 690), ('politely', 691), ('advisable', 692), ('‘found', 693), ('‘of', 694), ('‘it’s', 695), ('notice', 696), ('meet', 697), ('melancholy', 698), ('solemnly', 699), ('what’s', 700), ('believe', 701), ('panting', 702), ('won', 703), ('pressed', 704), ('rest', 705), ('comfits', 706), ('luckily', 707), ('gravely', 708), ('speech', 709), ('simply', 710), ('caused', 711), ('confusion', 712), ('added', 713), ('sad', 714), ('met', 715), ('both', 716), ('trial', 717), ('jury', 718), ('judge', 719), ('breath', 720), ('“i’ll', 721), ('angrily', 722), ('mean', 723), ('finish', 724), ('story', 725), ('others', 726), ('shook', 727), ('crab', 728), ('‘hold', 729), ('tongue', 730), ('particular', 731), ('ferrets', 732), ('where', 733), ('hunting', 734), ('since', 735), ('run', 736), ('messages', 737), ('directly', 738), ('they’d', 739), ('does', 740), ('drunk', 741), ('‘that’s', 742), ('floor', 743), ('effect', 744), ('elbow', 745), ('fancied', 746), ('least', 747), ('taking', 748), ('outside', 749), ('snatch', 750), ('crash', 751), ('cucumber', 752), ('pat', 753), ('apples', 754), ('sounds', 755), ('together', 756), ('‘em', 757), ('loud', 758), ('kick', 759), ('drew', 760), ('sharp', 761), ('fellow', 762), ('dead', 763), ('barrowful', 764), ('doubt', 765), ('pebbles', 766), ('held', 767), ('rush', 768), ('appeared', 769), ('wood', 770), ('plan', 771), ('smallest', 772), ('bark', 773), ('coaxing', 774), ('thistle', 775), ('each', 776), ('mouth', 777), ('mushroom', 778), ('hookah', 779), ('‘who', 780), ('\\ufeffproject', 781), ('gutenberg’s', 782), ('anyone', 783), ('anywhere', 784), ('cost', 785), ('restrictions', 786), ('whatsoever', 787), ('copy', 788), ('re', 789), ('terms', 790), ('license', 791), ('included', 792), ('online', 793), ('www', 794), ('org', 795), ('title', 796), ('author', 797), ('posting', 798), ('june', 799), ('25', 800), ('2008', 801), ('11', 802), ('release', 803), ('march', 804), ('1994', 805), ('updated', 806), ('october', 807), ('6', 808), ('2016', 809), ('character', 810), ('encoding', 811), ('utf', 812), ('8', 813), ('start', 814), ('millennium', 815), ('fulcrum', 816), ('edition', 817), ('3', 818), ('0', 819), ('twice', 820), ('reading', 821), ('conversations', 822), ('‘without', 823), ('pleasure', 824), ('daisy', 825), ('chain', 826), ('picking', 827), ('daisies', 828), ('pink', 829), ('nor', 830), ('afterwards', 831), ('wondered', 832), ('actually', 833), ('flashed', 834), ('burning', 835), ('curiosity', 836), ('field', 837), ('fortunately', 838), ('pop', 839), ('straight', 840), ('tunnel', 841), ('dipped', 842), ('stopping', 843), ('plenty', 844), ('maps', 845), ('hung', 846), ('pegs', 847), ('passed', 848), ('labelled', 849), ('‘orange', 850), ('marmalade’', 851), ('disappointment', 852), ('empty', 853), ('drop', 854), ('killing', 855), ('past', 856), ('‘after', 857), ('tumbling', 858), ('brave', 859), ('true', 860), ('centre', 861), ('learnt', 862), ('schoolroom', 863), ('showing', 864), ('practice', 865), ('yes', 866), ('grand', 867), ('downward', 868), ('antipathies', 869), ('listening', 870), ('word', 871), ('country', 872), ('ma’am', 873), ('zealand', 874), ('australia', 875), ('curtsey', 876), ('curtseying', 877), ('ignorant', 878), ('‘dinah’ll', 879), ('miss', 880), ('saucer', 881), ('milk', 882), ('tea', 883), ('dreamy', 884), ('dozing', 885), ('dream', 886), ('earnestly', 887), ('truth', 888), ('heap', 889), ('sticks', 890), ('overhead', 891), ('hurrying', 892), ('wind', 893), ('lit', 894), ('lamps', 895), ('locked', 896), ('wondering', 897), ('legged', 898), ('solid', 899), ('except', 900), ('belong', 901), ('locks', 902), ('curtain', 903), ('fifteen', 904), ('lock', 905), ('fitted', 906), ('rat', 907), ('knelt', 908), ('loveliest', 909), ('longed', 910), ('wander', 911), ('beds', 912), ('cool', 913), ('fountains', 914), ('doorway', 915), ('shoulders', 916), ('lately', 917), ('telescopes', 918), ('paper', 919), ('printed', 920), ('wise', 921), ('‘no', 922), ('“poison”', 923), ('not’', 924), ('histories', 925), ('burnt', 926), ('eaten', 927), ('wild', 928), ('beasts', 929), ('unpleasant', 930), ('because', 931), ('simple', 932), ('friends', 933), ('taught', 934), ('red', 935), ('poker', 936), ('cut', 937), ('deeply', 938), ('knife', 939), ('bleeds', 940), ('disagree', 941), ('later', 942), ('ventured', 943), ('mixed', 944), ('flavour', 945), ('cherry', 946), ('tart', 947), ('custard', 948), ('pine', 949), ('apple', 950), ('roast', 951), ('turkey', 952), ('toffee', 953), ('buttered', 954), ('toast', 955), ('ten', 956), ('brightened', 957), ('shrink', 958), ('further', 959), ('nervous', 960), ('flame', 961), ('blown', 962), ('decided', 963), ('plainly', 964), ('climb', 965), ('legs', 966), ('slippery', 967), ('advise', 968), ('seldom', 969), ('followed', 970), ('scolded', 971), ('cheated', 972), ('croquet', 973), ('playing', 974), ('pretending', 975), ('pretend', 976), ('respectable', 977), ('‘eat', 978), ('currants', 979), ('creep', 980), ('care', 981), ('ate', 982), ('remained', 983), ('eats', 984), ('dull', 985), ('common', 986), ('work', 987), ('ii', 988), ('‘curiouser', 989), ('curiouser', 990), ('largest', 991), ('bye', 992), ('shoes', 993), ('stockings', 994), ('able', 995), ('‘or', 996), ('boots', 997), ('christmas', 998), ('planning', 999), ('‘they', 1000), ('carrier', 1001), ('presents', 1002), ('one’s', 1003), ('odd', 1004), ('directions', 1005), ('esq', 1006), ('hearthrug', 1007), ('fender', 1008), ('love', 1009), ('struck', 1010), ('hopeless', 1011), ('ashamed', 1012), ('shedding', 1013), ('gallons', 1014), ('until', 1015), ('reaching', 1016), ('dried', 1017), ('returning', 1018), ('splendidly', 1019), ('dressed', 1020), ('himself', 1021), ('savage', 1022), ('desperate', 1023), ('timid', 1024), ('violently', 1025), ('skurried', 1026), ('darkness', 1027), ('fanning', 1028), ('‘dear', 1029), ('yesterday', 1030), ('usual', 1031), ('ah', 1032), ('puzzle', 1033), ('ada', 1034), ('mine', 1035), ('knows', 1036), ('besides', 1037), ('five', 1038), ('twelve', 1039), ('six', 1040), ('thirteen', 1041), ('seven', 1042), ('twenty', 1043), ('multiplication', 1044), ('signify', 1045), ('let’s', 1046), ('geography', 1047), ('london', 1048), ('wrong', 1049), ('“how', 1050), ('crossed', 1051), ('lap', 1052), ('repeat', 1053), ('hoarse', 1054), ('strange', 1055), ('crocodile', 1056), ('improve', 1057), ('shining', 1058), ('pour', 1059), ('waters', 1060), ('nile', 1061), ('scale', 1062), ('cheerfully', 1063), ('grin', 1064), ('claws', 1065), ('welcome', 1066), ('fishes', 1067), ('gently', 1068), ('smiling', 1069), ('jaws', 1070), ('live', 1071), ('poky', 1072), ('toys', 1073), ('putting', 1074), ('“come', 1075), ('“who', 1076), ('else”', 1077), ('burst', 1078), ('measure', 1079), ('rapidly', 1080), ('avoid', 1081), ('existence', 1082), ('speed', 1083), ('worse', 1084), ('declare', 1085), ('splash', 1086), ('chin', 1087), ('somehow', 1088), ('seaside', 1089), ('conclusion', 1090), ('wherever', 1091), ('coast', 1092), ('bathing', 1093), ('machines', 1094), ('sand', 1095), ('wooden', 1096), ('spades', 1097), ('lodging', 1098), ('houses', 1099), ('station', 1100), ('wept', 1101), ('punished', 1102), ('drowned', 1103), ('splashing', 1104), ('nearer', 1105), ('walrus', 1106), ('hippopotamus', 1107), ('harm', 1108), ('‘o', 1109), ('brother’s', 1110), ('latin', 1111), ('grammar', 1112), ('inquisitively', 1113), ('wink', 1114), ('‘perhaps', 1115), ('daresay', 1116), ('clear', 1117), ('notion', 1118), ('ago', 1119), ('‘ou', 1120), ('est', 1121), ('chatte', 1122), ('sentence', 1123), ('leap', 1124), ('quiver', 1125), ('fright', 1126), ('animal’s', 1127), ('shrill', 1128), ('passionate', 1129), ('soothing', 1130), ('‘don’t', 1131), ('quiet', 1132), ('lazily', 1133), ('sits', 1134), ('purring', 1135), ('nicely', 1136), ('fire', 1137), ('licking', 1138), ('washing', 1139), ('soft', 1140), ('bristling', 1141), ('family', 1142), ('hated', 1143), ('nasty', 1144), ('vulgar', 1145), ('dog', 1146), ('eyed', 1147), ('terrier', 1148), ('curly', 1149), ('brown', 1150), ('throw', 1151), ('sit', 1152), ('dinner', 1153), ('belongs', 1154), ('farmer', 1155), ('hundred', 1156), ('pounds', 1157), ('kills', 1158), ('rats', 1159), ('commotion', 1160), ('softly', 1161), ('‘mouse', 1162), ('pale', 1163), ('passion', 1164), ('‘let', 1165), ('creatures', 1166), ('iii', 1167), ('assembled', 1168), ('draggled', 1169), ('feathers', 1170), ('clinging', 1171), ('dripping', 1172), ('cross', 1173), ('consultation', 1174), ('familiarly', 1175), ('known', 1176), ('argument', 1177), ('sulky', 1178), ('better’', 1179), ('allow', 1180), ('positively', 1181), ('refused', 1182), ('authority', 1183), ('‘sit', 1184), ('fixed', 1185), ('cold', 1186), ('‘ahem', 1187), ('important', 1188), ('driest', 1189), ('“william', 1190), ('whose', 1191), ('favoured', 1192), ('pope', 1193), ('submitted', 1194), ('leaders', 1195), ('accustomed', 1196), ('usurpation', 1197), ('conquest', 1198), ('edwin', 1199), ('‘ugh', 1200), ('shiver', 1201), ('frowning', 1202), ('‘did', 1203), ('proceed', 1204), ('“edwin', 1205), ('declared', 1206), ('stigand', 1207), ('patriotic', 1208), ('archbishop', 1209), ('canterbury', 1210), ('crossly', 1211), ('“it”', 1212), ('means', 1213), ('frog', 1214), ('worm', 1215), ('hurriedly', 1216), ('‘“', 1217), ('edgar', 1218), ('atheling', 1219), ('offer', 1220), ('crown', 1221), ('william’s', 1222), ('conduct', 1223), ('moderate', 1224), ('insolence', 1225), ('normans', 1226), ('continued', 1227), ('rising', 1228), ('move', 1229), ('meeting', 1230), ('adjourn', 1231), ('immediate', 1232), ('adoption', 1233), ('energetic', 1234), ('‘speak', 1235), ('meaning', 1236), ('bent', 1237), ('hide', 1238), ('smile', 1239), ('‘was', 1240), ('paused', 1241), ('inclined', 1242), ('winter', 1243), ('circle', 1244), ('exact', 1245), ('shape', 1246), ('placed', 1247), ('‘one', 1248), ('easy', 1249), ('hour', 1250), ('forehead', 1251), ('position', 1252), ('shakespeare', 1253), ('‘everybody', 1254), ('asked', 1255), ('pointing', 1256), ('calling', 1257), ('confused', 1258), ('‘prizes', 1259), ('despair', 1260), ('pulled', 1261), ('handed', 1262), ('exactly', 1263), ('piece', 1264), ('prize', 1265), ('‘only', 1266), ('‘hand', 1267), ('presented', 1268), ('acceptance', 1269), ('elegant', 1270), ('thimble’', 1271), ('cheered', 1272), ('absurd', 1273), ('grave', 1274), ('dare', 1275), ('laugh', 1276), ('bowed', 1277), ('solemn', 1278), ('noise', 1279), ('complained', 1280), ('theirs', 1281), ('ones', 1282), ('choked', 1283), ('patted', 1284), ('begged', 1285), ('promised', 1286), ('c', 1287), ('d', 1288), ('whisper', 1289), ('‘mine', 1290), ('mouse’s', 1291), ('call', 1292), ('‘fury', 1293), ('“let', 1294), ('law', 1295), ('prosecute', 1296), ('denial', 1297), ('cur', 1298), ('“such', 1299), ('wasting', 1300), ('cunning', 1301), ('fury', 1302), ('condemn', 1303), ('death', 1304), ('”’', 1305), ('attending', 1306), ('humbly', 1307), ('fifth', 1308), ('bend', 1309), ('knot', 1310), ('undo', 1311), ('insult', 1312), ('pleaded', 1313), ('easily', 1314), ('growled', 1315), ('reply', 1316), ('‘please', 1317), ('joined', 1318), ('‘yes', 1319), ('impatiently', 1320), ('quicker', 1321), ('pity', 1322), ('sighed', 1323), ('daughter', 1324), ('‘ah', 1325), ('lose', 1326), ('temper', 1327), ('young', 1328), ('snappishly', 1329), ('‘you’re', 1330), ('patience', 1331), ('oyster', 1332), ('addressing', 1333), ('nobody', 1334), ('‘she’d', 1335), ('venture', 1336), ('pet', 1337), ('‘dinah’s', 1338), ('bird', 1339), ('sensation', 1340), ('magpie', 1341), ('wrapping', 1342), ('carefully', 1343), ('remarking', 1344), ('suit', 1345), ('throat', 1346), ('canary', 1347), ('bed', 1348), ('various', 1349), ('pretexts', 1350), ('moved', 1351), ('mentioned', 1352), ('‘nobody', 1353), ('lonely', 1354), ('spirited', 1355), ('footsteps', 1356), ('iv', 1357), ('sends', 1358), ('executed', 1359), ('guessed', 1360), ('naturedly', 1361), ('nowhere', 1362), ('swim', 1363), ('vanished', 1364), ('completely', 1365), ('doing', 1366), ('quick', 1367), ('direction', 1368), ('pointed', 1369), ('mistake', 1370), ('‘he', 1371), ('housemaid', 1372), ('he’ll', 1373), ('finds', 1374), ('neat', 1375), ('brass', 1376), ('plate', 1377), ('‘w', 1378), ('rabbit’', 1379), ('engraved', 1380), ('knocking', 1381), ('upstairs', 1382), ('lest', 1383), ('real', 1384), ('dinah’ll', 1385), ('fancying', 1386), ('‘“miss', 1387), ('“coming', 1388), ('ordering', 1389), ('tidy', 1390), ('hoped', 1391), ('pairs', 1392), ('stood', 1393), ('nevertheless', 1394), ('uncorked', 1395), ('lips', 1396), ('interesting', 1397), ('‘whenever', 1398), ('expected', 1399), ('pressing', 1400), ('ceiling', 1401), ('stoop', 1402), ('save', 1403), ('kneel', 1404), ('curled', 1405), ('resource', 1406), ('whatever', 1407), ('become', 1408), ('magic', 1409), ('full', 1410), ('grew', 1411), ('chance', 1412), ('unhappy', 1413), ('pleasanter', 1414), ('‘when', 1415), ('wasn’t', 1416), ('ordered', 1417), ('rabbits', 1418), ('gone', 1419), ('fairy', 1420), ('tales', 1421), ('write', 1422), ('grown', 1423), ('‘at', 1424), ('‘shall', 1425), ('that’ll', 1426), ('comfort', 1427), ('woman', 1428), ('shouldn’t', 1429), ('foolish', 1430), ('answered', 1431), ('books', 1432), ('stopped', 1433), ('‘mary', 1434), ('‘fetch', 1435), ('trembled', 1436), ('forgetting', 1437), ('reason', 1438), ('inwards', 1439), ('attempt', 1440), ('proved', 1441), ('failure', 1442), ('‘then', 1443), ('won’t’', 1444), ('shriek', 1445), ('concluded', 1446), ('possible', 1447), ('frame', 1448), ('‘pat', 1449), ('‘digging', 1450), ('‘here', 1451), ('pronounced', 1452), ('‘arrum', 1453), ('‘an', 1454), ('goose', 1455), ('fills', 1456), ('business', 1457), ('whispers', 1458), ('coward', 1459), ('shrieks', 1460), ('frames', 1461), ('pulling', 1462), ('hearing', 1463), ('rumbling', 1464), ('cartwheels', 1465), ('‘where’s', 1466), ('ladder', 1467), ('lad', 1468), ('tie', 1469), ('rope', 1470), ('bear', 1471), ('loose', 1472), ('slate', 1473), ('below', 1474), ('who’s', 1475), ('nay', 1476), ('master', 1477), ('‘shy', 1478), ('place', 1479), ('fireplace', 1480), ('animal', 1481), ('scratching', 1482), ('scrambling', 1483), ('above', 1484), ('‘this', 1485), ('‘catch', 1486), ('brandy', 1487), ('choke', 1488), ('feeble', 1489), ('squeaking', 1490), ('thank', 1491), ('ye', 1492), ('flustered', 1493), ('comes', 1494), ('jack', 1495), ('sky', 1496), ('rocket', 1497), ('‘so', 1498), ('instantly', 1499), ('sense', 1500), ('moving', 1501), ('shower', 1502), ('rattling', 1503), ('hit', 1504), ('‘i’ll', 1505), ('shouted', 1506), ('‘you’d', 1507), ('produced', 1508), ('surprise', 1509), ('lay', 1510), ('swallowed', 1511), ('delighted', 1512), ('crowd', 1513), ('lizard', 1514), ('guinea', 1515), ('pigs', 1516), ('giving', 1517), ('safe', 1518), ('thick', 1519), ('wandered', 1520), ('‘is', 1521), ('excellent', 1522), ('arranged', 1523), ('difficulty', 1524), ('peering', 1525), ('trees', 1526), ('enormous', 1527), ('feebly', 1528), ('stretching', 1529), ('paw', 1530), ('touch', 1531), ('‘poor', 1532), ('whistle', 1533), ('terribly', 1534), ('hungry', 1535), ('spite', 1536), ('picked', 1537), ('whereupon', 1538), ('yelp', 1539), ('rushed', 1540), ('worry', 1541), ('dodged', 1542), ('keep', 1543), ('tumbled', 1544), ('heels', 1545), ('cart', 1546), ('horse', 1547), ('trampled', 1548), ('series', 1549), ('charges', 1550), ('forwards', 1551), ('barking', 1552), ('hoarsely', 1553), ('puppy’s', 1554), ('faint', 1555), ('leant', 1556), ('buttercup', 1557), ('fanned', 1558), ('teaching', 1559), ('tricks', 1560), ('blades', 1561), ('grass', 1562), ('circumstances', 1563), ('height', 1564), ('stretched', 1565), ('tiptoe', 1566), ('edge', 1567), ('immediately', 1568), ('arms', 1569), ('folded', 1570), ('quietly', 1571), ('smoking', 1572), ('v', 1573), ('addressed', 1574), ('languid', 1575), ('encouraging', 1576), ('shyly', 1577), ('present', 1578), ('sternly', 1579), ('‘explain', 1580), ('sir’', 1581), ('‘because', 1582), ('clearly', 1583), ('sizes', 1584), ('confusing', 1585), ('isn’t', 1586), ('haven’t', 1587), ('turn', 1588), ('chrysalis', 1589), ('butterfly', 1590), ('‘all', 1591), ('contemptuously', 1592), ('brought', 1593), ('irritated', 1594), ('caterpillar’s', 1595), ('remarks', 1596)])"
            ]
          },
          "metadata": {
            "tags": []
          },
          "execution_count": 15
        }
      ]
    },
    {
      "cell_type": "code",
      "metadata": {
        "id": "SfhW9pvfcTWZ",
        "colab_type": "code",
        "colab": {}
      },
      "source": [
        "# gensimを使って学習したCBOWの重み(単語の分散表現)を取り出す\n",
        "import gensim\n",
        "word2vec = gensim.models.KeyedVectors.load_word2vec_format('./CBOW_vectors.txt', binary=False)"
      ],
      "execution_count": 0,
      "outputs": []
    },
    {
      "cell_type": "code",
      "metadata": {
        "id": "F5wPx9UZcTWb",
        "colab_type": "code",
        "outputId": "12aead8b-dda7-4971-9fa2-81d8dbebc80d",
        "colab": {}
      },
      "source": [
        "# 入力した単語と近いベクトルを列挙する\n",
        "word2vec.most_similar(positive=['not'])"
      ],
      "execution_count": 0,
      "outputs": [
        {
          "output_type": "stream",
          "text": [
            "/Users/Niioka/anaconda/lib/python3.6/site-packages/gensim/matutils.py:737: FutureWarning: Conversion of the second argument of issubdtype from `int` to `np.signedinteger` is deprecated. In future, it will be treated as `np.int64 == np.dtype(int).type`.\n",
            "  if np.issubdtype(vec.dtype, np.int):\n"
          ],
          "name": "stderr"
        },
        {
          "output_type": "execute_result",
          "data": {
            "text/plain": [
              "[('nor', 0.5902115702629089),\n",
              " ('stigand', 0.5540261268615723),\n",
              " ('feeling', 0.5229634642601013),\n",
              " ('tale', 0.4807059168815613),\n",
              " ('can’t', 0.47442078590393066),\n",
              " ('chain', 0.45854058861732483),\n",
              " ('they’ll', 0.4231773018836975),\n",
              " ('hoped', 0.4148193597793579),\n",
              " ('i’d', 0.41418004035949707),\n",
              " ('pope', 0.41221606731414795)]"
            ]
          },
          "metadata": {
            "tags": []
          },
          "execution_count": 85
        }
      ]
    },
    {
      "cell_type": "markdown",
      "metadata": {
        "id": "vE3Fz_JMcTWe",
        "colab_type": "text"
      },
      "source": [
        "#### おまけ\n",
        "\n",
        "gensimを使うとwikipediaを学習済みの公開モデルを使うことができる\n",
        "\n",
        "(参考)　http://kento1109.hatenablog.com/entry/2017/11/15/230004"
      ]
    },
    {
      "cell_type": "code",
      "metadata": {
        "id": "khBttabUcTWe",
        "colab_type": "code",
        "colab": {}
      },
      "source": [
        "import urllib.request \n",
        "\n",
        "url = \"https://www.dropbox.com/s/exdl3wc83n2mfia/entity_vector.zip?dl=0\" # 保存したいファイルのURLを指定 (dropboxのURLを指定する際は、最後のdl=0をdl=1に設定する)\n",
        "save_name = \"entity_vector.zip\" # byori_dataset.zipという名前で保存される。\n",
        " \n",
        "# ダウンロードを実行\n",
        "urllib.request.urlretrieve(url, save_name)"
      ],
      "execution_count": 0,
      "outputs": []
    },
    {
      "cell_type": "code",
      "metadata": {
        "id": "a49PJvGlcTWg",
        "colab_type": "code",
        "colab": {}
      },
      "source": [
        "#uploadしたzipファイルを解凍する\n",
        "import zipfile\n",
        "with zipfile.ZipFile(\"entity_vector.zip\",\"r\") as zip_ref:\n",
        "    zip_ref.extractall(\"\") #\"\"の中にはディレクトリのpathが入る"
      ],
      "execution_count": 0,
      "outputs": []
    },
    {
      "cell_type": "code",
      "metadata": {
        "id": "B7sLgstncTWj",
        "colab_type": "code",
        "outputId": "deb3c5ea-69a0-466e-9b63-1dbc099a4601",
        "colab": {}
      },
      "source": [
        "from gensim.models import KeyedVectors\n",
        "model_dir = 'entity_vector/entity_vector.model.bin'\n",
        "model = KeyedVectors.load_word2vec_format(model_dir, binary=True)\n",
        "similar_rugby_list = model.most_similar(u'[ラグビー]')\n",
        "for similar_set in similar_rugby_list:\n",
        "    print (similar_set[0])\n",
        "    print (similar_set[1])"
      ],
      "execution_count": 0,
      "outputs": [
        {
          "output_type": "stream",
          "text": [
            "ラグビー\n",
            "0.7684316039085388\n",
            "[サッカー]\n",
            "0.7571812868118286\n",
            "[アイスホッケー]\n",
            "0.719829797744751\n",
            "[ハンドボール]\n",
            "0.7171785235404968\n",
            "[バレーボール]\n",
            "0.7139065265655518\n",
            "[バスケットボール]\n",
            "0.7011639475822449\n",
            "[女子野球]\n",
            "0.6983809471130371\n",
            "[ソフトボール]\n",
            "0.6887843608856201\n",
            "サッカー\n",
            "0.6880793571472168\n",
            "[水球]\n",
            "0.6868013143539429\n"
          ],
          "name": "stdout"
        },
        {
          "output_type": "stream",
          "text": [
            "/Users/Niioka/anaconda/lib/python3.6/site-packages/gensim/matutils.py:737: FutureWarning: Conversion of the second argument of issubdtype from `int` to `np.signedinteger` is deprecated. In future, it will be treated as `np.int64 == np.dtype(int).type`.\n",
            "  if np.issubdtype(vec.dtype, np.int):\n"
          ],
          "name": "stderr"
        }
      ]
    },
    {
      "cell_type": "code",
      "metadata": {
        "id": "slEkebfocTWm",
        "colab_type": "code",
        "outputId": "a3c54eaa-91bf-48ed-bcff-3330f23cddb4",
        "colab": {}
      },
      "source": [
        "from gensim.models import KeyedVectors\n",
        "model_dir = 'entity_vector/entity_vector.model.bin'\n",
        "model = KeyedVectors.load_word2vec_format(model_dir, binary=True)\n",
        "similar_rugby_list = model.most_similar(positive=[u'[新宿]',u'[大阪府]'],negative=[u'[東京都]'])\n",
        "for similar_set in similar_rugby_list:\n",
        "    print (similar_set[0])\n",
        "    print (similar_set[1])"
      ],
      "execution_count": 0,
      "outputs": [
        {
          "output_type": "stream",
          "text": [
            "[梅田]\n",
            "0.6829696297645569\n",
            "[ミナミ]\n",
            "0.6623619794845581\n",
            "[日本橋_(大阪市)]\n",
            "0.6565461158752441\n",
            "[心斎橋]\n",
            "0.655109167098999\n",
            "[千日前]\n",
            "0.645991861820221\n",
            "[難波]\n",
            "0.6324416995048523\n",
            "阿倍野\n",
            "0.6287933588027954\n",
            "[新世界_(大阪)]\n",
            "0.6217558979988098\n",
            "[北新地]\n",
            "0.6190609335899353\n",
            "[キタ]\n",
            "0.6080436706542969\n"
          ],
          "name": "stdout"
        },
        {
          "output_type": "stream",
          "text": [
            "/Users/Niioka/anaconda/lib/python3.6/site-packages/gensim/matutils.py:737: FutureWarning: Conversion of the second argument of issubdtype from `int` to `np.signedinteger` is deprecated. In future, it will be treated as `np.int64 == np.dtype(int).type`.\n",
            "  if np.issubdtype(vec.dtype, np.int):\n"
          ],
          "name": "stderr"
        }
      ]
    },
    {
      "cell_type": "code",
      "metadata": {
        "id": "_BeaIcq8cTWp",
        "colab_type": "code",
        "colab": {}
      },
      "source": [
        ""
      ],
      "execution_count": 0,
      "outputs": []
    },
    {
      "cell_type": "markdown",
      "metadata": {
        "id": "hv3uDl5tcTWs",
        "colab_type": "text"
      },
      "source": [
        "#### おまけ2\n",
        "UMAPという圧縮手法を使って重みを2次元まで圧縮し、単語の分散表現を取得して表示\n",
        "\n",
        "pip install umap-learnでインストールする必要がある"
      ]
    },
    {
      "cell_type": "code",
      "metadata": {
        "id": "PF9VoWi2cTWt",
        "colab_type": "code",
        "colab": {}
      },
      "source": [
        "# 分散表現の取得\n",
        "w2v = model.get_weights()[0]\n",
        "\n",
        "# クラスタリング\n",
        "from sklearn.cluster import KMeans\n",
        "kmeans = KMeans(n_clusters=10, random_state=529).fit(w2v)\n",
        "\n",
        "# 次元圧縮\n",
        "from umap import UMAP\n",
        "w2v_umap = UMAP().fit_transform(w2v)\n",
        "\n",
        "# クラスタ内で頻度上位の語を取得\n",
        "from itertools import compress\n",
        "for c in set(kmeans.labels_):\n",
        "    print('cluster %s' % c)\n",
        "    for w, i in list(compress(sorted(tokenizer.word_index.items(), key=lambda x: x[1]), kmeans.labels_[1:] == c))[:10]:\n",
        "        print(w, end=' ')\n",
        "    print()\n",
        "\n",
        "# クラスタごとに色分けプロット\n",
        "from matplotlib import cm\n",
        "for c in set(kmeans.labels_):\n",
        "  # クラスタ内で頻度上位の語を注釈\n",
        "    for w, i in list(compress(sorted(tokenizer.word_index.items(), key=lambda x: x[1]), kmeans.labels_[1:] == c))[:5]:\n",
        "        plt.annotate(w, (w2v_umap[i, 0], w2v_umap[i, 1]))\n",
        "\n",
        "    v = w2v_umap[kmeans.labels_ == c]\n",
        "    plt.scatter(v[:, 0], v[:, 1], label=c, cmap=cm.hsv, alpha=0.8)\n",
        "\n",
        "plt.legend()\n",
        "plt.show()\n",
        "\n",
        "\"\"\"\n",
        "UMAPについて\n",
        "https://qiita.com/cheerfularge/items/27a55ebde4a671880666\n",
        "\"\"\""
      ],
      "execution_count": 0,
      "outputs": []
    },
    {
      "cell_type": "code",
      "metadata": {
        "id": "cPvFE-BucTWu",
        "colab_type": "code",
        "colab": {}
      },
      "source": [
        ""
      ],
      "execution_count": 0,
      "outputs": []
    }
  ]
}