{
  "nbformat": 4,
  "nbformat_minor": 0,
  "metadata": {
    "kernelspec": {
      "display_name": "Python 3",
      "language": "python",
      "name": "python3"
    },
    "language_info": {
      "codemirror_mode": {
        "name": "ipython",
        "version": 3
      },
      "file_extension": ".py",
      "mimetype": "text/x-python",
      "name": "python",
      "nbconvert_exporter": "python",
      "pygments_lexer": "ipython3",
      "version": "3.6.5"
    },
    "colab": {
      "name": "8_RNN_感情分析.ipynb",
      "provenance": []
    }
  },
  "cells": [
    {
      "cell_type": "markdown",
      "metadata": {
        "id": "g8UjHQ5Hf1Tn",
        "colab_type": "text"
      },
      "source": [
        "# 実習8\n",
        "#### RNNを用いて文章の感情分析\n",
        "\n",
        "#### 参考\n",
        "PythonとKerasによるディープラーニング\n",
        "(https://www.amazon.co.jp/PythonとKerasによるディープラーニング-Francois-Chollet/dp/4839964262)\n",
        "3章と6章\n",
        "\n",
        "\n",
        "IMDbデータセットを使用。これはIMDb(Internet Movie Database)から収集された「肯定的」25000件と「否定的」25000件のレビューで構成されている。"
      ]
    },
    {
      "cell_type": "markdown",
      "metadata": {
        "id": "pLBWc7BTf1Tq",
        "colab_type": "text"
      },
      "source": [
        "### データの前処理"
      ]
    },
    {
      "cell_type": "code",
      "metadata": {
        "id": "4h5KOK7of1Tr",
        "colab_type": "code",
        "outputId": "2a9bfa47-ee5a-4590-c49c-2dd00a269da3",
        "colab": {}
      },
      "source": [
        "# まずはIMDbデータセットをダウンロードする\n",
        "\n",
        "from keras.datasets import imdb\n",
        "from keras.preprocessing import sequence\n",
        "\n",
        "max_features = 10000 #訓練データにおいて出現頻度が最も高い10000個の単語だけを残し、出現頻度が低い単語は捨てます。\n",
        "maxlen = 500 #一つの文章につき最大500単語まで取り出す\n",
        "batch_size = 32\n",
        "\n",
        "print('Loading data...')\n",
        "(x_train, y_train), (x_test, y_test) = imdb.load_data(num_words=max_features)\n",
        "print(len(x_train), 'train sequences')\n",
        "print(len(x_test), 'test sequences')"
      ],
      "execution_count": 0,
      "outputs": [
        {
          "output_type": "stream",
          "text": [
            "Loading data...\n",
            "25000 train sequences\n",
            "25000 test sequences\n"
          ],
          "name": "stdout"
        }
      ]
    },
    {
      "cell_type": "code",
      "metadata": {
        "id": "kwO2JUw-f1Tw",
        "colab_type": "code",
        "outputId": "7528f15a-8f89-44ec-b136-cb3c1e4b4931",
        "colab": {}
      },
      "source": [
        "# x_trainには単語IDが順番に入っている。y_trainにはレビューが肯定的か否定的かを表す0と1が入っている\n",
        "print(x_train[0])\n",
        "print(y_train[0:10])"
      ],
      "execution_count": 0,
      "outputs": [
        {
          "output_type": "stream",
          "text": [
            "[1, 14, 22, 16, 43, 530, 973, 1622, 1385, 65, 458, 4468, 66, 3941, 4, 173, 36, 256, 5, 25, 100, 43, 838, 112, 50, 670, 2, 9, 35, 480, 284, 5, 150, 4, 172, 112, 167, 2, 336, 385, 39, 4, 172, 4536, 1111, 17, 546, 38, 13, 447, 4, 192, 50, 16, 6, 147, 2025, 19, 14, 22, 4, 1920, 4613, 469, 4, 22, 71, 87, 12, 16, 43, 530, 38, 76, 15, 13, 1247, 4, 22, 17, 515, 17, 12, 16, 626, 18, 2, 5, 62, 386, 12, 8, 316, 8, 106, 5, 4, 2223, 5244, 16, 480, 66, 3785, 33, 4, 130, 12, 16, 38, 619, 5, 25, 124, 51, 36, 135, 48, 25, 1415, 33, 6, 22, 12, 215, 28, 77, 52, 5, 14, 407, 16, 82, 2, 8, 4, 107, 117, 5952, 15, 256, 4, 2, 7, 3766, 5, 723, 36, 71, 43, 530, 476, 26, 400, 317, 46, 7, 4, 2, 1029, 13, 104, 88, 4, 381, 15, 297, 98, 32, 2071, 56, 26, 141, 6, 194, 7486, 18, 4, 226, 22, 21, 134, 476, 26, 480, 5, 144, 30, 5535, 18, 51, 36, 28, 224, 92, 25, 104, 4, 226, 65, 16, 38, 1334, 88, 12, 16, 283, 5, 16, 4472, 113, 103, 32, 15, 16, 5345, 19, 178, 32]\n",
            "[1 0 0 1 0 0 1 0 1 0]\n"
          ],
          "name": "stdout"
        }
      ]
    },
    {
      "cell_type": "code",
      "metadata": {
        "id": "v-IEoekBf1T0",
        "colab_type": "code",
        "outputId": "cf345bf1-ebda-43f9-fbe4-2ec6aac3d223",
        "colab": {}
      },
      "source": [
        "# 1文目のデータ(x_train[0])を文章に戻す。\n",
        "\n",
        "# word_indexは単語を制すのインデックスにマッピングする辞書\n",
        "word_index = imdb.get_word_index()\n",
        "\n",
        "# 整数のインデックスを単語にマッピング\n",
        "reverse_word_index = dict([(value, key) for (key, value) in word_index.items()])\n",
        "\n",
        "# レビューをデコード：院でクスのオフセットとして3が指定されているのは、0, 1, 2はそれぞれ「パディング」「シーケンスの開始」\n",
        "# 「不明」のインデックスとして予約されているためである。登録されていないキーに対しては?を返す。\n",
        "# ' '.joinで各単語を半角スペースつなげて文章にする。 ' 'にカンマを入れると、単語の間にカンマが入る\n",
        "decoded_review = ' '.join([reverse_word_index.get(i-3, '?') for i in x_train[0]])\n",
        "\n",
        "print (decoded_review)"
      ],
      "execution_count": 0,
      "outputs": [
        {
          "output_type": "stream",
          "text": [
            "? this film was just brilliant casting location scenery story direction everyone's really suited the part they played and you could just imagine being there robert ? is an amazing actor and now the same being director ? father came from the same scottish island as myself so i loved the fact there was a real connection with this film the witty remarks throughout the film were great it was just brilliant so much that i bought the film as soon as it was released for ? and would recommend it to everyone to watch and the fly fishing was amazing really cried at the end it was so sad and you know what they say if you cry at a film it must have been good and this definitely was also ? to the two little boy's that played the ? of norman and paul they were just brilliant children are often left out of the ? list i think because the stars that play them all grown up are such a big profile for the whole film but these children are amazing and should be praised for what they have done don't you think the whole story was so lovely because it was true and was someone's life after all that was shared with us all\n"
          ],
          "name": "stdout"
        }
      ]
    },
    {
      "cell_type": "code",
      "metadata": {
        "id": "ex7hkFvHf1T3",
        "colab_type": "code",
        "outputId": "7bbb63c1-c34d-4bea-a931-2dcdb55423fb",
        "colab": {}
      },
      "source": [
        "#word_indexとreverse_word_indexの中を見てみる\n",
        "a = [(x,y) for (i, (x, y)) in enumerate(word_index.items()) if i<5]\n",
        "b = [(x,y) for (i, (x, y)) in enumerate(reverse_word_index.items()) if i<5]\n",
        "print(a)\n",
        "print(b)\n",
        "#ちゃんとvalueとkeyが逆になっている"
      ],
      "execution_count": 0,
      "outputs": [
        {
          "output_type": "stream",
          "text": [
            "[('fawn', 34701), ('tsukino', 52006), ('nunnery', 52007), ('sonja', 16816), ('vani', 63951)]\n",
            "[(34701, 'fawn'), (52006, 'tsukino'), (52007, 'nunnery'), (16816, 'sonja'), (63951, 'vani')]\n"
          ],
          "name": "stdout"
        }
      ]
    },
    {
      "cell_type": "code",
      "metadata": {
        "id": "jJuusLbuf1T5",
        "colab_type": "code",
        "outputId": "8f89298b-e778-4504-86a6-4036150f12cc",
        "colab": {}
      },
      "source": [
        "# 単語ID1から20の英単語を表示\n",
        "tango = []\n",
        "for i in range (1, 21):\n",
        "    tango.append(reverse_word_index[i])\n",
        "print(tango)"
      ],
      "execution_count": 0,
      "outputs": [
        {
          "output_type": "stream",
          "text": [
            "['the', 'and', 'a', 'of', 'to', 'is', 'br', 'in', 'it', 'i', 'this', 'that', 'was', 'as', 'for', 'with', 'movie', 'but', 'film', 'on']\n"
          ],
          "name": "stdout"
        }
      ]
    },
    {
      "cell_type": "code",
      "metadata": {
        "id": "nX53Jfd7f1T9",
        "colab_type": "code",
        "outputId": "c53aa2a0-31ce-4b90-e2ad-0d700711a3c7",
        "colab": {}
      },
      "source": [
        "# 1つのデータ(文章)を500次元のベクトルに変換する。単語数が足りない文章は0で埋める。\n",
        "print('Pad sequences (samples x time)')\n",
        "x_train = sequence.pad_sequences(x_train, maxlen=maxlen)\n",
        "x_test = sequence.pad_sequences(x_test, maxlen=maxlen)\n",
        "print('input_train shape:', x_train.shape)\n",
        "print('input_test shape:', x_test.shape)"
      ],
      "execution_count": 0,
      "outputs": [
        {
          "output_type": "stream",
          "text": [
            "Pad sequences (samples x time)\n",
            "input_train shape: (25000, 500)\n",
            "input_test shape: (25000, 500)\n"
          ],
          "name": "stdout"
        }
      ]
    },
    {
      "cell_type": "code",
      "metadata": {
        "id": "vKPZ_PV4f1UA",
        "colab_type": "code",
        "colab": {}
      },
      "source": [
        "# validation dataの準備(validation dataは最初の5000data, 訓練データは残りの20000data)\n",
        "x_val = x_train[:5000]\n",
        "partial_x_train = x_train[5000:]\n",
        "\n",
        "y_val = y_train[:5000]\n",
        "partial_y_train = y_train[5000:]"
      ],
      "execution_count": 0,
      "outputs": []
    },
    {
      "cell_type": "markdown",
      "metadata": {
        "id": "5SIG6OIMf1UE",
        "colab_type": "text"
      },
      "source": [
        "#### まずはEmbeddingとDense層のみで分類してみる"
      ]
    },
    {
      "cell_type": "code",
      "metadata": {
        "id": "0bFv-rE2f1UE",
        "colab_type": "code",
        "colab": {}
      },
      "source": [
        "epochs = 20\n",
        "batch_size = 128"
      ],
      "execution_count": 0,
      "outputs": []
    },
    {
      "cell_type": "code",
      "metadata": {
        "id": "3q8Yv4xAf1UH",
        "colab_type": "code",
        "outputId": "10341939-4e69-4d6f-954c-a22ed193fec7",
        "colab": {}
      },
      "source": [
        "from keras.models import Sequential\n",
        "from keras.layers import Flatten, Embedding, Dense\n",
        "from keras.layers import SimpleRNN\n",
        "\n",
        "model = Sequential()\n",
        "model.add(Embedding(10000, 32, input_length = 500)) #10000種類の単語に対して32次元の埋め込みを学習する、単語数(t)は500。\n",
        "\n",
        "# 3次元テンソルを形状が(samples, max_len*32)の2次元テンソルに変換\n",
        "model.add(Flatten())\n",
        "\n",
        "model.add(Dense(1, activation = 'sigmoid')) #二値分類なのでノードが１つのDense層を追加\n",
        "model.summary()"
      ],
      "execution_count": 0,
      "outputs": [
        {
          "output_type": "stream",
          "text": [
            "_________________________________________________________________\n",
            "Layer (type)                 Output Shape              Param #   \n",
            "=================================================================\n",
            "embedding_5 (Embedding)      (None, 500, 32)           320000    \n",
            "_________________________________________________________________\n",
            "flatten_4 (Flatten)          (None, 16000)             0         \n",
            "_________________________________________________________________\n",
            "dense_5 (Dense)              (None, 1)                 16001     \n",
            "=================================================================\n",
            "Total params: 336,001\n",
            "Trainable params: 336,001\n",
            "Non-trainable params: 0\n",
            "_________________________________________________________________\n"
          ],
          "name": "stdout"
        }
      ]
    },
    {
      "cell_type": "markdown",
      "metadata": {
        "id": "42p_s67Cf1UJ",
        "colab_type": "text"
      },
      "source": [
        "kerasのEmbeddingは正の整数（インデックス）を固定次元の密ベクトル(対応する単語ベクトル)に変換。埋め込み空間を誤差逆伝播により学習することができる。\n",
        "\n",
        "model.add(Embedding(input_dim=1000, output_dim=64, input_length=10))において、\n",
        "\n",
        "input_dim: 正の整数．語彙数．入力データの最大インデックス + 1．\n",
        "\n",
        "output_dim: 0以上の整数．密なembeddingsの次元数．\n",
        "\n",
        "input_length: 入力の系列長（定数）． この引数はこのレイヤーの後にFlattenからDenseレイヤーへ接続する際に必要 (これがないと，denseの出力のshapeを計算できない)．\n",
        "\n",
        "自然言語処理での使い方としては、Embedding(語彙数, 分散ベクトルの次元数, 1文章の次元数))となる。\n"
      ]
    },
    {
      "cell_type": "code",
      "metadata": {
        "id": "CR_Lr03Jf1UK",
        "colab_type": "code",
        "outputId": "930b5100-27eb-4a5e-cd8f-3eb6c08e2f39",
        "colab": {}
      },
      "source": [
        "from keras import optimizers\n",
        "model.compile(optimizer = optimizers.RMSprop(lr =0.001),\n",
        "              loss = 'binary_crossentropy',\n",
        "              metrics = ['accuracy'])\n",
        "\n",
        "hist = model.fit(partial_x_train,\n",
        "                 partial_y_train,\n",
        "                 epochs = epochs,\n",
        "                 batch_size = batch_size,\n",
        "                 validation_data = (x_val, y_val))"
      ],
      "execution_count": 0,
      "outputs": [
        {
          "output_type": "stream",
          "text": [
            "Train on 20000 samples, validate on 5000 samples\n",
            "Epoch 1/20\n",
            "20000/20000 [==============================] - 1s 42us/step - loss: 0.6036 - acc: 0.6849 - val_loss: 0.4335 - val_acc: 0.8360\n",
            "Epoch 2/20\n",
            "20000/20000 [==============================] - 1s 34us/step - loss: 0.3135 - acc: 0.8819 - val_loss: 0.2950 - val_acc: 0.8844\n",
            "Epoch 3/20\n",
            "20000/20000 [==============================] - 1s 32us/step - loss: 0.2168 - acc: 0.9196 - val_loss: 0.2751 - val_acc: 0.8908\n",
            "Epoch 4/20\n",
            "20000/20000 [==============================] - 1s 32us/step - loss: 0.1674 - acc: 0.9417 - val_loss: 0.2687 - val_acc: 0.8902\n",
            "Epoch 5/20\n",
            "20000/20000 [==============================] - 1s 33us/step - loss: 0.1321 - acc: 0.9574 - val_loss: 0.2652 - val_acc: 0.8914\n",
            "Epoch 6/20\n",
            "20000/20000 [==============================] - 1s 32us/step - loss: 0.1036 - acc: 0.9680 - val_loss: 0.2800 - val_acc: 0.8910\n",
            "Epoch 7/20\n",
            "20000/20000 [==============================] - 1s 30us/step - loss: 0.0796 - acc: 0.9786 - val_loss: 0.2888 - val_acc: 0.8878\n",
            "Epoch 8/20\n",
            "20000/20000 [==============================] - 1s 31us/step - loss: 0.0598 - acc: 0.9843 - val_loss: 0.3063 - val_acc: 0.8844\n",
            "Epoch 9/20\n",
            "20000/20000 [==============================] - 1s 31us/step - loss: 0.0433 - acc: 0.9895 - val_loss: 0.3157 - val_acc: 0.8846\n",
            "Epoch 10/20\n",
            "20000/20000 [==============================] - 1s 32us/step - loss: 0.0310 - acc: 0.9935 - val_loss: 0.3375 - val_acc: 0.8828\n",
            "Epoch 11/20\n",
            "20000/20000 [==============================] - 1s 31us/step - loss: 0.0210 - acc: 0.9963 - val_loss: 0.3640 - val_acc: 0.8792\n",
            "Epoch 12/20\n",
            "20000/20000 [==============================] - 1s 31us/step - loss: 0.0142 - acc: 0.9979 - val_loss: 0.3841 - val_acc: 0.8784\n",
            "Epoch 13/20\n",
            "20000/20000 [==============================] - 1s 35us/step - loss: 0.0091 - acc: 0.9988 - val_loss: 0.4145 - val_acc: 0.8766\n",
            "Epoch 14/20\n",
            "20000/20000 [==============================] - 1s 31us/step - loss: 0.0056 - acc: 0.9994 - val_loss: 0.4456 - val_acc: 0.8704\n",
            "Epoch 15/20\n",
            "20000/20000 [==============================] - 1s 32us/step - loss: 0.0034 - acc: 0.9996 - val_loss: 0.4832 - val_acc: 0.8716\n",
            "Epoch 16/20\n",
            "20000/20000 [==============================] - 1s 31us/step - loss: 0.0020 - acc: 0.9997 - val_loss: 0.5125 - val_acc: 0.8680\n",
            "Epoch 17/20\n",
            "20000/20000 [==============================] - 1s 30us/step - loss: 0.0012 - acc: 0.9999 - val_loss: 0.5509 - val_acc: 0.8678\n",
            "Epoch 18/20\n",
            "20000/20000 [==============================] - 1s 31us/step - loss: 7.6231e-04 - acc: 1.0000 - val_loss: 0.5876 - val_acc: 0.8656\n",
            "Epoch 19/20\n",
            "20000/20000 [==============================] - 1s 30us/step - loss: 4.7362e-04 - acc: 0.9999 - val_loss: 0.6225 - val_acc: 0.8634\n",
            "Epoch 20/20\n",
            "20000/20000 [==============================] - 1s 30us/step - loss: 3.2208e-04 - acc: 1.0000 - val_loss: 0.6583 - val_acc: 0.8630\n"
          ],
          "name": "stdout"
        }
      ]
    },
    {
      "cell_type": "code",
      "metadata": {
        "id": "iKef9D-1f1UN",
        "colab_type": "code",
        "outputId": "7d65c28b-0b28-4cf1-8a19-bf13a65a2658",
        "colab": {}
      },
      "source": [
        "import matplotlib.pyplot as plt\n",
        "%matplotlib inline\n",
        "\n",
        "loss = hist.history['loss']\n",
        "val_loss = hist.history['val_loss']\n",
        "\n",
        "acc = hist.history['acc']\n",
        "val_acc = hist.history['val_acc']\n",
        "\n",
        "# lossのグラフ\n",
        "plt.figure(figsize=(15, 5))\n",
        "plt.subplot(121)\n",
        "plt.plot(range(epochs), loss, marker='.', label='loss')\n",
        "plt.plot(range(epochs), val_loss, marker='.', label='val_loss')\n",
        "plt.legend(loc='best', fontsize=10)\n",
        "plt.grid()\n",
        "plt.xlabel('epoch')\n",
        "plt.ylabel('loss')\n",
        "\n",
        "# accuracyのグラフ\n",
        "plt.subplot(122)\n",
        "plt.plot(range(epochs), acc, marker='.', label='acc')\n",
        "plt.plot(range(epochs), val_acc, marker='.', label='val_acc')\n",
        "plt.legend(loc='best', fontsize=10)\n",
        "plt.grid()\n",
        "plt.xlabel('epoch')\n",
        "plt.ylabel('acc')\n",
        "plt.show()"
      ],
      "execution_count": 0,
      "outputs": [
        {
          "output_type": "display_data",
          "data": {
            "image/png": "[encoded data removed]",
            "text/plain": [
              "<Figure size 1080x360 with 2 Axes>"
            ]
          },
          "metadata": {
            "tags": []
          }
        }
      ]
    },
    {
      "cell_type": "code",
      "metadata": {
        "id": "VtbkubAyf1UP",
        "colab_type": "code",
        "colab": {}
      },
      "source": [
        ""
      ],
      "execution_count": 0,
      "outputs": []
    },
    {
      "cell_type": "markdown",
      "metadata": {
        "id": "JeWxcHy6f1US",
        "colab_type": "text"
      },
      "source": [
        "#### RNNを使ってみる"
      ]
    },
    {
      "cell_type": "code",
      "metadata": {
        "id": "8XW8SF--f1US",
        "colab_type": "code",
        "outputId": "020cc080-467c-49ba-cfa7-96de8ff932e8",
        "colab": {}
      },
      "source": [
        "from keras.models import Sequential\n",
        "from keras.layers import Flatten, Embedding, Dense\n",
        "from keras.layers import SimpleRNN\n",
        "\n",
        "model = Sequential()\n",
        "model.add(Embedding(10000, 32, input_length = 500)) #10000種類の単語に対して32次元の埋め込みを学習する、単語数(t)は500。\n",
        "model.add(SimpleRNN(32)) #SimpleRNNの入力次元は3次元で(batchsize, timesteps(ここでは単語ベクトルの数), 単語ベクトルの次元数)となる\n",
        "model.add(Dense(1, activation = 'sigmoid')) #二値分類なのでノードが１つのDense層を追加\n",
        "model.summary()"
      ],
      "execution_count": 0,
      "outputs": [
        {
          "output_type": "stream",
          "text": [
            "_________________________________________________________________\n",
            "Layer (type)                 Output Shape              Param #   \n",
            "=================================================================\n",
            "embedding_6 (Embedding)      (None, 500, 32)           320000    \n",
            "_________________________________________________________________\n",
            "simple_rnn_2 (SimpleRNN)     (None, 32)                2080      \n",
            "_________________________________________________________________\n",
            "dense_6 (Dense)              (None, 1)                 33        \n",
            "=================================================================\n",
            "Total params: 322,113\n",
            "Trainable params: 322,113\n",
            "Non-trainable params: 0\n",
            "_________________________________________________________________\n"
          ],
          "name": "stdout"
        }
      ]
    },
    {
      "cell_type": "code",
      "metadata": {
        "id": "cGX_hwj8f1UV",
        "colab_type": "code",
        "outputId": "8f26c3ff-e688-44ee-b6fd-a21f7369356b",
        "colab": {}
      },
      "source": [
        "from keras import optimizers\n",
        "model.compile(optimizer = optimizers.RMSprop(lr =0.001),\n",
        "              loss = 'binary_crossentropy',\n",
        "              metrics = ['accuracy'])\n",
        "\n",
        "epochs=10\n",
        "\n",
        "hist = model.fit(partial_x_train,\n",
        "                 partial_y_train,\n",
        "                 epochs = epochs,\n",
        "                 batch_size = 128,\n",
        "                 validation_data = (x_val, y_val))"
      ],
      "execution_count": 0,
      "outputs": [
        {
          "output_type": "stream",
          "text": [
            "Train on 20000 samples, validate on 5000 samples\n",
            "Epoch 1/10\n",
            "20000/20000 [==============================] - 17s 864us/step - loss: 0.0263 - acc: 0.9914 - val_loss: 0.6190 - val_acc: 0.8224\n",
            "Epoch 2/10\n",
            "20000/20000 [==============================] - 16s 815us/step - loss: 0.0196 - acc: 0.9936 - val_loss: 0.6685 - val_acc: 0.8332\n",
            "Epoch 3/10\n",
            "20000/20000 [==============================] - 17s 839us/step - loss: 0.0155 - acc: 0.9958 - val_loss: 0.7335 - val_acc: 0.7998\n",
            "Epoch 4/10\n",
            "20000/20000 [==============================] - 19s 961us/step - loss: 0.0125 - acc: 0.9961 - val_loss: 0.7723 - val_acc: 0.8054\n",
            "Epoch 5/10\n",
            "20000/20000 [==============================] - 18s 911us/step - loss: 0.0096 - acc: 0.9972 - val_loss: 0.8376 - val_acc: 0.7938\n",
            "Epoch 6/10\n",
            "20000/20000 [==============================] - 16s 801us/step - loss: 0.0063 - acc: 0.9981 - val_loss: 0.8292 - val_acc: 0.8104\n",
            "Epoch 7/10\n",
            "20000/20000 [==============================] - 16s 806us/step - loss: 0.0069 - acc: 0.9978 - val_loss: 0.9236 - val_acc: 0.7910\n",
            "Epoch 8/10\n",
            "20000/20000 [==============================] - 16s 799us/step - loss: 0.0057 - acc: 0.9978 - val_loss: 0.9049 - val_acc: 0.8026\n",
            "Epoch 9/10\n",
            "20000/20000 [==============================] - 16s 818us/step - loss: 0.0056 - acc: 0.9986 - val_loss: 0.9123 - val_acc: 0.7970\n",
            "Epoch 10/10\n",
            "20000/20000 [==============================] - 16s 802us/step - loss: 0.0057 - acc: 0.9984 - val_loss: 1.0097 - val_acc: 0.7794\n"
          ],
          "name": "stdout"
        }
      ]
    },
    {
      "cell_type": "code",
      "metadata": {
        "id": "hGd7lrOEf1UX",
        "colab_type": "code",
        "outputId": "1336483c-d3d6-462e-fabe-d3e397af8037",
        "colab": {}
      },
      "source": [
        "import matplotlib.pyplot as plt\n",
        "%matplotlib inline\n",
        "\n",
        "loss = hist.history['loss']\n",
        "val_loss = hist.history['val_loss']\n",
        "\n",
        "acc = hist.history['acc']\n",
        "val_acc = hist.history['val_acc']\n",
        "\n",
        "# lossのグラフ\n",
        "plt.figure(figsize=(15, 5))\n",
        "plt.subplot(121)\n",
        "plt.plot(range(epochs), loss, marker='.', label='loss')\n",
        "plt.plot(range(epochs), val_loss, marker='.', label='val_loss')\n",
        "plt.legend(loc='best', fontsize=10)\n",
        "plt.grid()\n",
        "plt.xlabel('epoch')\n",
        "plt.ylabel('loss')\n",
        "\n",
        "# accuracyのグラフ\n",
        "plt.subplot(122)\n",
        "plt.plot(range(epochs), acc, marker='.', label='acc')\n",
        "plt.plot(range(epochs), val_acc, marker='.', label='val_acc')\n",
        "plt.legend(loc='best', fontsize=10)\n",
        "plt.grid()\n",
        "plt.xlabel('epoch')\n",
        "plt.ylabel('acc')\n",
        "plt.show()"
      ],
      "execution_count": 0,
      "outputs": [
        {
          "output_type": "display_data",
          "data": {
            "image/png": "[encoded data removed]",
            "text/plain": [
              "<Figure size 1080x360 with 2 Axes>"
            ]
          },
          "metadata": {
            "tags": []
          }
        }
      ]
    },
    {
      "cell_type": "code",
      "metadata": {
        "id": "WENzEHOkf1UZ",
        "colab_type": "code",
        "colab": {}
      },
      "source": [
        ""
      ],
      "execution_count": 0,
      "outputs": []
    },
    {
      "cell_type": "markdown",
      "metadata": {
        "id": "s4MzoXoGf1Ub",
        "colab_type": "text"
      },
      "source": [
        "### LSTMを使ってみる"
      ]
    },
    {
      "cell_type": "code",
      "metadata": {
        "id": "s5ee0kv2f1Uc",
        "colab_type": "code",
        "outputId": "b53a198f-7a8f-4e8f-f67d-fc66e43e1d20",
        "colab": {}
      },
      "source": [
        "# SimpleRNNをLSTMに変更するだけ\n",
        "from keras.layers import LSTM\n",
        "\n",
        "model = Sequential()\n",
        "model.add(Embedding(10000, 32, input_length = 500)) \n",
        "model.add(LSTM(32)) \n",
        "model.add(Dense(1, activation = 'sigmoid')) \n",
        "model.summary()"
      ],
      "execution_count": 0,
      "outputs": [
        {
          "output_type": "stream",
          "text": [
            "_________________________________________________________________\n",
            "Layer (type)                 Output Shape              Param #   \n",
            "=================================================================\n",
            "embedding_7 (Embedding)      (None, 500, 32)           320000    \n",
            "_________________________________________________________________\n",
            "lstm_1 (LSTM)                (None, 32)                8320      \n",
            "_________________________________________________________________\n",
            "dense_10 (Dense)             (None, 1)                 33        \n",
            "=================================================================\n",
            "Total params: 328,353\n",
            "Trainable params: 328,353\n",
            "Non-trainable params: 0\n",
            "_________________________________________________________________\n"
          ],
          "name": "stdout"
        }
      ]
    },
    {
      "cell_type": "code",
      "metadata": {
        "id": "vLi8enJqf1Ue",
        "colab_type": "code",
        "outputId": "a8661eb8-998f-4739-cce6-be9bfcab812a",
        "colab": {}
      },
      "source": [
        "model.compile(optimizer = optimizers.RMSprop(lr =0.001),\n",
        "              loss = 'binary_crossentropy',\n",
        "              metrics = ['accuracy'])\n",
        "\n",
        "hist = model.fit(partial_x_train,\n",
        "                 partial_y_train,\n",
        "                 epochs = 10,\n",
        "                 batch_size = 512,\n",
        "                 validation_data = (x_val, y_val))"
      ],
      "execution_count": 0,
      "outputs": [
        {
          "output_type": "stream",
          "text": [
            "Train on 20000 samples, validate on 5000 samples\n",
            "Epoch 1/10\n",
            "20000/20000 [==============================] - 30s 2ms/step - loss: 0.6348 - acc: 0.6690 - val_loss: 0.5157 - val_acc: 0.8108\n",
            "Epoch 2/10\n",
            "20000/20000 [==============================] - 31s 2ms/step - loss: 0.4561 - acc: 0.8266 - val_loss: 0.4276 - val_acc: 0.8106\n",
            "Epoch 3/10\n",
            "20000/20000 [==============================] - 29s 1ms/step - loss: 0.3628 - acc: 0.8601 - val_loss: 0.3845 - val_acc: 0.8456\n",
            "Epoch 4/10\n",
            "20000/20000 [==============================] - 30s 2ms/step - loss: 0.2932 - acc: 0.8886 - val_loss: 0.3135 - val_acc: 0.8708\n",
            "Epoch 5/10\n",
            "20000/20000 [==============================] - 30s 1ms/step - loss: 0.2532 - acc: 0.9032 - val_loss: 0.3070 - val_acc: 0.8814\n",
            "Epoch 6/10\n",
            "20000/20000 [==============================] - 29s 1ms/step - loss: 0.2312 - acc: 0.9137 - val_loss: 0.3251 - val_acc: 0.8678\n",
            "Epoch 7/10\n",
            "20000/20000 [==============================] - 29s 1ms/step - loss: 0.2009 - acc: 0.9257 - val_loss: 0.3112 - val_acc: 0.8724\n",
            "Epoch 8/10\n",
            "20000/20000 [==============================] - 28s 1ms/step - loss: 0.1772 - acc: 0.9349 - val_loss: 0.4286 - val_acc: 0.8712\n",
            "Epoch 9/10\n",
            "20000/20000 [==============================] - 30s 2ms/step - loss: 0.1746 - acc: 0.9393 - val_loss: 0.3352 - val_acc: 0.8834\n",
            "Epoch 10/10\n",
            "20000/20000 [==============================] - 29s 1ms/step - loss: 0.1473 - acc: 0.9477 - val_loss: 0.3049 - val_acc: 0.8838\n"
          ],
          "name": "stdout"
        }
      ]
    },
    {
      "cell_type": "code",
      "metadata": {
        "id": "cTqC623gf1Uh",
        "colab_type": "code",
        "colab": {}
      },
      "source": [
        "import matplotlib.pyplot as plt\n",
        "loss = hist.history['loss']\n",
        "val_loss = hist.history['val_loss']\n",
        "\n",
        "acc = hist.history['acc']\n",
        "val_acc = hist.history['val_acc']\n",
        "\n",
        "# lossのグラフ\n",
        "plt.figure(figsize=(15, 5))\n",
        "plt.subplot(121)\n",
        "plt.plot(range(epochs), loss, marker='.', label='loss')\n",
        "plt.plot(range(epochs), val_loss, marker='.', label='val_loss')\n",
        "plt.legend(loc='best', fontsize=10)\n",
        "plt.grid()\n",
        "plt.xlabel('epoch')\n",
        "plt.ylabel('loss')\n",
        "\n",
        "# accuracyのグラフ\n",
        "plt.subplot(122)\n",
        "plt.plot(range(epochs), acc, marker='.', label='acc')\n",
        "plt.plot(range(epochs), val_acc, marker='.', label='val_acc')\n",
        "plt.legend(loc='best', fontsize=10)\n",
        "plt.grid()\n",
        "plt.xlabel('epoch')\n",
        "plt.ylabel('acc')\n",
        "plt.show()"
      ],
      "execution_count": 0,
      "outputs": []
    },
    {
      "cell_type": "markdown",
      "metadata": {
        "id": "6BUSI3CLf1Un",
        "colab_type": "text"
      },
      "source": [
        "### 課題8-1\n",
        "#### SimpleRNN層を連続で二層繋いでより表現力の高いモデルを構築\n",
        "SimpleRNN(32, return_sequences = True)とすることで出力が3次元のテンソル(batchsize, timesteps, output_features)になる。次の層のSimepleRNNが情報を受け取ることができるようになる。return_sequencesの引数を指定しない場合、SimpleRNNの出力は2次元のテンソル(batchsize, output_features)となり、これが一番最後のRNNの出力。\n",
        "\n",
        "### 課題8-2\n",
        "#### GloVeの埋め込み行列を使って学習\n",
        "\n",
        "単語の埋め込みについて、データベースが色々提供されている。それらをダウンロードすればkerasのEmbedding層で利用できる。Word2vecはそのうちの1つ。また、2014年にスタンフォード大学の研究者によって開発されたGlobal Vectors for Word Representation(GloVe)というアルゴリズムがよく知られている。この埋め込みアルゴリズムは、単語の共起関係からなる行列の因数分解に基づいている。GloVeの開発者はWikipediaやCommmon Crawlのデータから取得した数百万規模の英語のトークンをもとに学習済みの埋め込みを提供している。\n",
        "GloVe単語埋め込みファイル(glove.6B.zip)は以下のURLよりダウンロードして解凍できる。このファイルには40万個の単語を対象とした100次元の埋め込みベクトルが含まれている。\n",
        "\n",
        "https://nlp.stanford.edu/projects/glove"
      ]
    },
    {
      "cell_type": "code",
      "metadata": {
        "id": "7PJNs2HXf1Uo",
        "colab_type": "code",
        "colab": {}
      },
      "source": [
        "# 課題8-1\n",
        "from keras.models import Sequential\n",
        "from keras.layers import Flatten, Embedding, Dense\n",
        "from keras.layers import SimpleRNN\n",
        "\n",
        "model = Sequential()\n",
        "model.add(Embedding(10000, 32, input_length = 500)) #10000種類の単語に対して32次元の埋め込みを学習する\n",
        "model.add(SimpleRNN(32, return_sequences = True)) #このSimpleRNNの出力次元は3次元となる\n",
        "model.add(SimpleRNN(32))\n",
        "model.add(Dense(1, activation = 'sigmoid')) #二値分類なのでノードが１つのDense層を追加\n",
        "model.summary()"
      ],
      "execution_count": 0,
      "outputs": []
    },
    {
      "cell_type": "code",
      "metadata": {
        "id": "4NtB1uiff1Ur",
        "colab_type": "code",
        "colab": {}
      },
      "source": [
        "model.compile(optimizer = optimizers.RMSprop(lr =0.001),\n",
        "              loss = 'binary_crossentropy',\n",
        "              metrics = ['accuracy'])\n",
        "\n",
        "hist = model.fit(partial_x_train,\n",
        "                 partial_y_train,\n",
        "                 epochs = 10,\n",
        "                 batch_size = 512,\n",
        "                 validation_data = (x_val, y_val))"
      ],
      "execution_count": 0,
      "outputs": []
    },
    {
      "cell_type": "code",
      "metadata": {
        "id": "v6QJ8AFqf1Uu",
        "colab_type": "code",
        "colab": {}
      },
      "source": [
        ""
      ],
      "execution_count": 0,
      "outputs": []
    },
    {
      "cell_type": "code",
      "metadata": {
        "id": "4ol6aVBtf1Ux",
        "colab_type": "code",
        "colab": {}
      },
      "source": [
        "# 課題8-2\n",
        "import os\n",
        "\n",
        "#  Gloveの埋め込みファイルが置かれているディレクトリを指定\n",
        "glove_dir = 'glove'\n",
        "\n",
        "embeddings_index = {}\n",
        "f = open(os.path.join(glove_dir, 'glove.6B.100d.txt'))\n",
        "for line in f:\n",
        "    values = line.split()\n",
        "    word = values[0]\n",
        "    coefs = np.asarray(values[1:], dtype = 'float32')\n",
        "    embeddings_index[word] = coefs\n",
        "f.close()\n",
        "\n",
        "print('Found %ds word vectors.' % len(embeddings_index))"
      ],
      "execution_count": 0,
      "outputs": []
    },
    {
      "cell_type": "code",
      "metadata": {
        "id": "XDYwW5uHf1Uy",
        "colab_type": "code",
        "colab": {}
      },
      "source": [
        "#GloVeの単語埋め込み行列の準備\n",
        "max_features = 10000\n",
        "embedding_dim = 100\n",
        "\n",
        "embedding_matrix = np.zeros((max_features, embedding_dim))\n",
        "for word in word_index.items():\n",
        "    embedding_vector = embeddings_index.get(word)\n",
        "    if i < max_words:\n",
        "        if embedding_vector is not None:\n",
        "            #埋め込みインデックスで見つからない単語は0で埋める\n",
        "            embedding_matrix[i] = embedding_vector"
      ],
      "execution_count": 0,
      "outputs": []
    },
    {
      "cell_type": "code",
      "metadata": {
        "id": "zPUs0Xypf1U0",
        "colab_type": "code",
        "colab": {}
      },
      "source": [
        "from keras.models import Sequential\n",
        "from keras.layers import Flatten, Embedding, Dense\n",
        "from keras.layers import SimpleRNN\n",
        "\n",
        "model = Sequential()\n",
        "model.add(Embedding(10000, 100, input_length = 500)) #10000種類の単語に対して32次元の埋め込みを学習する\n",
        "model.add(SimpleRNN(32, return_sequences = True)) #このSimpleRNNの出力次元は3次元となる\n",
        "model.add(SimpleRNN(32))\n",
        "model.add(Dense(1, activation = 'sigmoid')) #二値分類なのでノードが１つのDense層を追加\n",
        "model.summary()"
      ],
      "execution_count": 0,
      "outputs": []
    },
    {
      "cell_type": "code",
      "metadata": {
        "id": "eIp1gTzwf1U3",
        "colab_type": "code",
        "colab": {}
      },
      "source": [
        "model.layers[0].set_weights([embedding_matrix])\n",
        "model.layers[0].trainable = False\n",
        "# VGG16の時と同様で、後ろの層が初期化された状態でEmbedding層の重みを学習可能にしてしまうと折角の表現が壊れてしまう。\n",
        "# そのため、trainable属性をFalseにする。"
      ],
      "execution_count": 0,
      "outputs": []
    },
    {
      "cell_type": "code",
      "metadata": {
        "id": "Pd4Epf9nf1U5",
        "colab_type": "code",
        "colab": {}
      },
      "source": [
        "epochs = 10\n",
        "batch_size = 128\n",
        "\n",
        "model.compile(optimizer = 'rmsprop',\n",
        "              loss = 'binary_crossentropy',\n",
        "              metrics = ['acc'])\n",
        "hist = model.fit(x_train, y_train,\n",
        "                 epochs = epochs,\n",
        "                 batch_size = batch_size,\n",
        "                 validation_data = (x_val, y_val))"
      ],
      "execution_count": 0,
      "outputs": []
    },
    {
      "cell_type": "code",
      "metadata": {
        "id": "SpFdZY0ef1U9",
        "colab_type": "code",
        "colab": {}
      },
      "source": [
        "import matplotlib.pyplot as plt\n",
        "loss = hist.history['loss']\n",
        "val_loss = hist.history['val_loss']\n",
        "\n",
        "acc = hist.history['acc']\n",
        "val_acc = hist.history['val_acc']\n",
        "\n",
        "# lossのグラフ\n",
        "plt.figure(figsize=(15, 5))\n",
        "plt.subplot(121)\n",
        "plt.plot(range(epochs), loss, marker='.', label='loss')\n",
        "plt.plot(range(epochs), val_loss, marker='.', label='val_loss')\n",
        "plt.legend(loc='best', fontsize=10)\n",
        "plt.grid()\n",
        "plt.xlabel('epoch')\n",
        "plt.ylabel('loss')\n",
        "\n",
        "# accuracyのグラフ\n",
        "plt.subplot(122)\n",
        "plt.plot(range(epochs), acc, marker='.', label='acc')\n",
        "plt.plot(range(epochs), val_acc, marker='.', label='val_acc')\n",
        "plt.legend(loc='best', fontsize=10)\n",
        "plt.grid()\n",
        "plt.xlabel('epoch')\n",
        "plt.ylabel('acc')\n",
        "plt.show()"
      ],
      "execution_count": 0,
      "outputs": []
    },
    {
      "cell_type": "code",
      "metadata": {
        "id": "AuFy1Z5kf1VA",
        "colab_type": "code",
        "colab": {}
      },
      "source": [
        ""
      ],
      "execution_count": 0,
      "outputs": []
    },
    {
      "cell_type": "code",
      "metadata": {
        "id": "w-fxrBCEf1VH",
        "colab_type": "code",
        "colab": {}
      },
      "source": [
        ""
      ],
      "execution_count": 0,
      "outputs": []
    },
    {
      "cell_type": "markdown",
      "metadata": {
        "id": "4E4qJwB3f1VK",
        "colab_type": "text"
      },
      "source": [
        "#### (おまけ)　Embeddingを使わずDenseのみで分類してみる"
      ]
    },
    {
      "cell_type": "code",
      "metadata": {
        "id": "0AZSrHkxf1VL",
        "colab_type": "code",
        "colab": {}
      },
      "source": [
        "# kerasで用意されているIMDbデータセットの読み込み\n",
        "from keras.datasets import imdb\n",
        "(train_data, train_labels), (test_data, test_labels) = imdb.load_data(num_words=10000)\n",
        "\n",
        "#引数num_words=10000は、訓練データにおいて出現頻度が最も高い10000個の単語だけを残し、出現頻度が低い単語は捨てることを意味する。"
      ],
      "execution_count": 0,
      "outputs": []
    },
    {
      "cell_type": "code",
      "metadata": {
        "id": "t4K-1EIAf1VO",
        "colab_type": "code",
        "outputId": "abc47a7f-f9d9-42c0-f05c-74e934a618a3",
        "colab": {}
      },
      "source": [
        "#データの中身を見てみる。\n",
        "print('traindata[0]:',train_data[0]) # 単語IDが並ぶ\n",
        "print('train_labels[0]:',train_labels[0]) # 0は否定的、1は肯定的を表す"
      ],
      "execution_count": 0,
      "outputs": [
        {
          "output_type": "stream",
          "text": [
            "traindata[0]: [1, 14, 22, 16, 43, 530, 973, 1622, 1385, 65, 458, 4468, 66, 3941, 4, 173, 36, 256, 5, 25, 100, 43, 838, 112, 50, 670, 2, 9, 35, 480, 284, 5, 150, 4, 172, 112, 167, 2, 336, 385, 39, 4, 172, 4536, 1111, 17, 546, 38, 13, 447, 4, 192, 50, 16, 6, 147, 2025, 19, 14, 22, 4, 1920, 4613, 469, 4, 22, 71, 87, 12, 16, 43, 530, 38, 76, 15, 13, 1247, 4, 22, 17, 515, 17, 12, 16, 626, 18, 2, 5, 62, 386, 12, 8, 316, 8, 106, 5, 4, 2223, 5244, 16, 480, 66, 3785, 33, 4, 130, 12, 16, 38, 619, 5, 25, 124, 51, 36, 135, 48, 25, 1415, 33, 6, 22, 12, 215, 28, 77, 52, 5, 14, 407, 16, 82, 2, 8, 4, 107, 117, 5952, 15, 256, 4, 2, 7, 3766, 5, 723, 36, 71, 43, 530, 476, 26, 400, 317, 46, 7, 4, 2, 1029, 13, 104, 88, 4, 381, 15, 297, 98, 32, 2071, 56, 26, 141, 6, 194, 7486, 18, 4, 226, 22, 21, 134, 476, 26, 480, 5, 144, 30, 5535, 18, 51, 36, 28, 224, 92, 25, 104, 4, 226, 65, 16, 38, 1334, 88, 12, 16, 283, 5, 16, 4472, 113, 103, 32, 15, 16, 5345, 19, 178, 32]\n",
            "train_labels[0]: 1\n"
          ],
          "name": "stdout"
        }
      ]
    },
    {
      "cell_type": "code",
      "metadata": {
        "id": "EIhYNsBaf1VQ",
        "colab_type": "code",
        "outputId": "3907db5f-422e-4443-ba64-d7ec794a6ec6",
        "colab": {}
      },
      "source": [
        "# 語彙数 (単語数を10000に設定しているため、10000を超えることはない(9999))\n",
        "max([max(sequence) for sequence in train_data])"
      ],
      "execution_count": 0,
      "outputs": [
        {
          "output_type": "execute_result",
          "data": {
            "text/plain": [
              "9999"
            ]
          },
          "metadata": {
            "tags": []
          },
          "execution_count": 51
        }
      ]
    },
    {
      "cell_type": "code",
      "metadata": {
        "id": "TlpFBGGRf1VS",
        "colab_type": "code",
        "outputId": "f89d1a6f-2cb5-476c-d4c5-9b780ee49677",
        "colab": {}
      },
      "source": [
        "# 1文目のデータ(x_train[0])を文章に戻す。\n",
        "\n",
        "# word_indexは単語を制すのインデックスにマッピングする辞書\n",
        "word_index = imdb.get_word_index()\n",
        "\n",
        "# 整数のインデックスを単語にマッピング\n",
        "reverse_word_index = dict([(value, key) for (key, value) in word_index.items()])\n",
        "\n",
        "# レビューをデコード：院でクスのオフセットとして3が指定されているのは、0, 1, 2はそれぞれ「パディング」「シーケンスの開始」\n",
        "# 「不明」のインデックスとして予約されているためである。登録されていないキーに対しては?を返す。\n",
        "decoded_review = ' '.join([reverse_word_index.get(i-3, '?') for i in train_data[0]])\n",
        "\n",
        "print (decoded_review)"
      ],
      "execution_count": 0,
      "outputs": [
        {
          "output_type": "stream",
          "text": [
            "? this film was just brilliant casting location scenery story direction everyone's really suited the part they played and you could just imagine being there robert ? is an amazing actor and now the same being director ? father came from the same scottish island as myself so i loved the fact there was a real connection with this film the witty remarks throughout the film were great it was just brilliant so much that i bought the film as soon as it was released for ? and would recommend it to everyone to watch and the fly fishing was amazing really cried at the end it was so sad and you know what they say if you cry at a film it must have been good and this definitely was also ? to the two little boy's that played the ? of norman and paul they were just brilliant children are often left out of the ? list i think because the stars that play them all grown up are such a big profile for the whole film but these children are amazing and should be praised for what they have done don't you think the whole story was so lovely because it was true and was someone's life after all that was shared with us all\n"
          ],
          "name": "stdout"
        }
      ]
    },
    {
      "cell_type": "code",
      "metadata": {
        "id": "Zr9jhVFvf1VV",
        "colab_type": "code",
        "colab": {}
      },
      "source": [
        "# 単語IDのシーケンスをone-hotベクトルに変換\n",
        "import numpy as np\n",
        "def vectorize_sequences(sequences, dimension =10000):\n",
        "    \n",
        "    #形状が(len(sequences), dimension)の行列を作成し、0で埋める\n",
        "    results = np.zeros((len(sequences), dimension))\n",
        "    \n",
        "    for i, sequence in enumerate(sequences):\n",
        "        results[i, sequence] = 1. # results[i]のインデックスを1に設定\n",
        "    return results\n",
        "\n",
        "# 訓練データのベクトル化\n",
        "x_train = vectorize_sequences(train_data)\n",
        "\n",
        "# テストデータのベクトル化\n",
        "x_test = vectorize_sequences(test_data)"
      ],
      "execution_count": 0,
      "outputs": []
    },
    {
      "cell_type": "code",
      "metadata": {
        "id": "FBWqGXK7f1VY",
        "colab_type": "code",
        "outputId": "0b32a5c9-794b-416e-c178-299109a4d282",
        "colab": {}
      },
      "source": [
        "# x_trainの中身を見てみる。25000個の訓練データ、1つの訓練データ(1つの文章)が1万次元の要素を持つ。\n",
        "# 肯定的な単語や否定的な単語が何番目の次元か推定できれば、その文章が肯定的か否定的か判別がつきそう。\n",
        "print(x_train, x_train.shape)\n",
        "print(x_train[0][0:20])"
      ],
      "execution_count": 0,
      "outputs": [
        {
          "output_type": "stream",
          "text": [
            "[[0. 1. 1. ... 0. 0. 0.]\n",
            " [0. 1. 1. ... 0. 0. 0.]\n",
            " [0. 1. 1. ... 0. 0. 0.]\n",
            " ...\n",
            " [0. 1. 1. ... 0. 0. 0.]\n",
            " [0. 1. 1. ... 0. 0. 0.]\n",
            " [0. 1. 1. ... 0. 0. 0.]] (25000, 10000)\n",
            "[0. 1. 1. 0. 1. 1. 1. 1. 1. 1. 0. 0. 1. 1. 1. 1. 1. 1. 1. 1.]\n"
          ],
          "name": "stdout"
        }
      ]
    },
    {
      "cell_type": "code",
      "metadata": {
        "id": "ErsFQ7dsf1Vb",
        "colab_type": "code",
        "outputId": "0af828ab-0baf-4bd2-bd17-e04c12aebf32",
        "colab": {}
      },
      "source": [
        "# ラベルのベクトル化\n",
        "y_train = np.asarray(train_labels).astype('float32')\n",
        "y_test = np.asarray(test_labels).astype('float32')\n",
        "print(y_train, y_train.shape)"
      ],
      "execution_count": 0,
      "outputs": [
        {
          "output_type": "stream",
          "text": [
            "[1. 0. 0. ... 0. 1. 0.] (25000,)\n"
          ],
          "name": "stdout"
        }
      ]
    },
    {
      "cell_type": "code",
      "metadata": {
        "id": "sCeO7nSnf1Vd",
        "colab_type": "code",
        "colab": {}
      },
      "source": [
        "# validation dataの準備\n",
        "x_val = x_train[:10000]\n",
        "partial_x_train = x_train[10000:]\n",
        "\n",
        "y_val = y_train[:10000]\n",
        "partial_y_train = y_train[10000:]"
      ],
      "execution_count": 0,
      "outputs": []
    },
    {
      "cell_type": "code",
      "metadata": {
        "id": "8k_0BUfpf1Vf",
        "colab_type": "code",
        "outputId": "4a917828-56e7-4869-8671-a30f5e8fcba5",
        "colab": {}
      },
      "source": [
        "from keras.models import Sequential\n",
        "from keras.layers import Dense\n",
        "\n",
        "model = Sequential()\n",
        "model.add(Dense(128, activation = 'relu', input_shape = (10000,)))\n",
        "model.add(Dense(16, activation = 'relu'))\n",
        "model.add(Dense(1, activation = 'sigmoid'))\n",
        "model.summary()"
      ],
      "execution_count": 0,
      "outputs": [
        {
          "output_type": "stream",
          "text": [
            "_________________________________________________________________\n",
            "Layer (type)                 Output Shape              Param #   \n",
            "=================================================================\n",
            "dense_7 (Dense)              (None, 128)               1280128   \n",
            "_________________________________________________________________\n",
            "dense_8 (Dense)              (None, 16)                2064      \n",
            "_________________________________________________________________\n",
            "dense_9 (Dense)              (None, 1)                 17        \n",
            "=================================================================\n",
            "Total params: 1,282,209\n",
            "Trainable params: 1,282,209\n",
            "Non-trainable params: 0\n",
            "_________________________________________________________________\n"
          ],
          "name": "stdout"
        }
      ]
    },
    {
      "cell_type": "code",
      "metadata": {
        "id": "bHWL7xuef1Vh",
        "colab_type": "code",
        "colab": {}
      },
      "source": [
        "from keras import optimizers\n",
        "model.compile(optimizer = optimizers.RMSprop(lr =0.001),\n",
        "              loss = 'binary_crossentropy',\n",
        "              metrics = ['accuracy'])"
      ],
      "execution_count": 0,
      "outputs": []
    },
    {
      "cell_type": "code",
      "metadata": {
        "id": "XHIBOMpXf1Vk",
        "colab_type": "code",
        "outputId": "b8b11075-4f74-420c-e5ff-25301aed33d3",
        "colab": {}
      },
      "source": [
        "# 学習\n",
        "epochs = 20\n",
        "batch_size = 512\n",
        "\n",
        "hist = model.fit(partial_x_train,\n",
        "                 partial_y_train,\n",
        "                 epochs = epochs,\n",
        "                 batch_size = batch_size,\n",
        "                 validation_data = (x_val, y_val))"
      ],
      "execution_count": 0,
      "outputs": [
        {
          "output_type": "stream",
          "text": [
            "Train on 15000 samples, validate on 10000 samples\n",
            "Epoch 1/20\n",
            "15000/15000 [==============================] - 3s 215us/step - loss: 0.4849 - acc: 0.7649 - val_loss: 0.3385 - val_acc: 0.8646\n",
            "Epoch 2/20\n",
            "15000/15000 [==============================] - 2s 117us/step - loss: 0.2662 - acc: 0.8981 - val_loss: 0.2752 - val_acc: 0.8912\n",
            "Epoch 3/20\n",
            "15000/15000 [==============================] - 2s 115us/step - loss: 0.1814 - acc: 0.9319 - val_loss: 0.3853 - val_acc: 0.8454\n",
            "Epoch 4/20\n",
            "15000/15000 [==============================] - 2s 114us/step - loss: 0.1405 - acc: 0.9504 - val_loss: 0.3010 - val_acc: 0.8835\n",
            "Epoch 5/20\n",
            "15000/15000 [==============================] - 2s 115us/step - loss: 0.1027 - acc: 0.9651 - val_loss: 0.3327 - val_acc: 0.8819\n",
            "Epoch 6/20\n",
            "15000/15000 [==============================] - 2s 114us/step - loss: 0.0744 - acc: 0.9749 - val_loss: 0.3446 - val_acc: 0.8807\n",
            "Epoch 7/20\n",
            "15000/15000 [==============================] - 2s 114us/step - loss: 0.0622 - acc: 0.9824 - val_loss: 0.3743 - val_acc: 0.8796\n",
            "Epoch 8/20\n",
            "15000/15000 [==============================] - 2s 114us/step - loss: 0.0445 - acc: 0.9869 - val_loss: 0.3947 - val_acc: 0.8799\n",
            "Epoch 9/20\n",
            "15000/15000 [==============================] - 2s 114us/step - loss: 0.0372 - acc: 0.9897 - val_loss: 0.4120 - val_acc: 0.8808\n",
            "Epoch 10/20\n",
            "15000/15000 [==============================] - 2s 114us/step - loss: 0.0095 - acc: 0.9993 - val_loss: 0.4683 - val_acc: 0.8793\n",
            "Epoch 11/20\n",
            "15000/15000 [==============================] - 2s 114us/step - loss: 0.0403 - acc: 0.9893 - val_loss: 0.4873 - val_acc: 0.8778\n",
            "Epoch 12/20\n",
            "15000/15000 [==============================] - 2s 115us/step - loss: 0.0038 - acc: 0.9998 - val_loss: 0.5322 - val_acc: 0.8767\n",
            "Epoch 13/20\n",
            "15000/15000 [==============================] - 2s 114us/step - loss: 0.0023 - acc: 0.9999 - val_loss: 0.5887 - val_acc: 0.8776\n",
            "Epoch 14/20\n",
            "15000/15000 [==============================] - 2s 116us/step - loss: 0.0364 - acc: 0.9914 - val_loss: 0.6063 - val_acc: 0.8749\n",
            "Epoch 15/20\n",
            "15000/15000 [==============================] - 2s 115us/step - loss: 8.3962e-04 - acc: 1.0000 - val_loss: 0.6377 - val_acc: 0.8740\n",
            "Epoch 16/20\n",
            "15000/15000 [==============================] - 2s 113us/step - loss: 5.7643e-04 - acc: 1.0000 - val_loss: 0.6786 - val_acc: 0.8744\n",
            "Epoch 17/20\n",
            "15000/15000 [==============================] - 2s 114us/step - loss: 3.7165e-04 - acc: 1.0000 - val_loss: 0.9234 - val_acc: 0.8535\n",
            "Epoch 18/20\n",
            "15000/15000 [==============================] - 2s 114us/step - loss: 0.0266 - acc: 0.9950 - val_loss: 0.7272 - val_acc: 0.8720\n",
            "Epoch 19/20\n",
            "15000/15000 [==============================] - 2s 114us/step - loss: 2.0080e-04 - acc: 1.0000 - val_loss: 0.7546 - val_acc: 0.8722\n",
            "Epoch 20/20\n",
            "15000/15000 [==============================] - 2s 114us/step - loss: 1.3923e-04 - acc: 1.0000 - val_loss: 0.7905 - val_acc: 0.8724\n"
          ],
          "name": "stdout"
        }
      ]
    },
    {
      "cell_type": "code",
      "metadata": {
        "id": "eIrgQgxjf1Vn",
        "colab_type": "code",
        "outputId": "678738f4-5569-4630-9584-5a0d81b20e72",
        "colab": {}
      },
      "source": [
        "import matplotlib.pyplot as plt\n",
        "%matplotlib inline\n",
        "\n",
        "loss = hist.history['loss']\n",
        "val_loss = hist.history['val_loss']\n",
        "\n",
        "acc = hist.history['acc']\n",
        "val_acc = hist.history['val_acc']\n",
        "\n",
        "# lossのグラフ\n",
        "plt.figure(figsize=(15, 5))\n",
        "plt.subplot(121)\n",
        "plt.plot(range(epochs), loss, marker='.', label='loss')\n",
        "plt.plot(range(epochs), val_loss, marker='.', label='val_loss')\n",
        "plt.legend(loc='best', fontsize=10)\n",
        "plt.grid()\n",
        "plt.xlabel('epoch')\n",
        "plt.ylabel('loss')\n",
        "\n",
        "# accuracyのグラフ\n",
        "plt.subplot(122)\n",
        "plt.plot(range(epochs), acc, marker='.', label='acc')\n",
        "plt.plot(range(epochs), val_acc, marker='.', label='val_acc')\n",
        "plt.legend(loc='best', fontsize=10)\n",
        "plt.grid()\n",
        "plt.xlabel('epoch')\n",
        "plt.ylabel('acc')\n",
        "plt.show()"
      ],
      "execution_count": 0,
      "outputs": [
        {
          "output_type": "display_data",
          "data": {
            "image/png": "[encoded data removed]",
            "text/plain": [
              "<Figure size 1080x360 with 2 Axes>"
            ]
          },
          "metadata": {
            "tags": []
          }
        }
      ]
    },
    {
      "cell_type": "code",
      "metadata": {
        "id": "8k7QBc5Uf1Vq",
        "colab_type": "code",
        "colab": {}
      },
      "source": [
        ""
      ],
      "execution_count": 0,
      "outputs": []
    },
    {
      "cell_type": "code",
      "metadata": {
        "id": "mKyIQGJBf1Vs",
        "colab_type": "code",
        "colab": {}
      },
      "source": [
        ""
      ],
      "execution_count": 0,
      "outputs": []
    }
  ]
}